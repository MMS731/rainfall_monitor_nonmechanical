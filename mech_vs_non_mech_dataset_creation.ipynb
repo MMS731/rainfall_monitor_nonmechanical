{
 "cells": [
  {
   "cell_type": "code",
   "execution_count": 1,
   "id": "3897d6d1",
   "metadata": {
    "_cell_guid": "b1076dfc-b9ad-4769-8c92-a6c4dae69d19",
    "_uuid": "8f2839f25d086af736a60e9eeb907d3b93b6e0e5",
    "execution": {
     "iopub.execute_input": "2024-05-31T09:35:51.047086Z",
     "iopub.status.busy": "2024-05-31T09:35:51.046161Z",
     "iopub.status.idle": "2024-05-31T09:35:51.928016Z",
     "shell.execute_reply": "2024-05-31T09:35:51.927014Z"
    },
    "papermill": {
     "duration": 0.892586,
     "end_time": "2024-05-31T09:35:51.930915",
     "exception": false,
     "start_time": "2024-05-31T09:35:51.038329",
     "status": "completed"
    },
    "tags": []
   },
   "outputs": [
    {
     "name": "stderr",
     "output_type": "stream",
     "text": [
      "/opt/conda/lib/python3.10/site-packages/scipy/__init__.py:146: UserWarning: A NumPy version >=1.16.5 and <1.23.0 is required for this version of SciPy (detected version 1.24.3\n",
      "  warnings.warn(f\"A NumPy version >={np_minversion} and <{np_maxversion}\"\n"
     ]
    }
   ],
   "source": [
    "# Import Libraries needed\n",
    "import librosa\n",
    "import numpy as np\n",
    "import pandas as pd\n",
    "from tqdm import tqdm\n",
    "from os import listdir\n",
    "from os.path import join\n",
    "from collections import Counter\n",
    "from scipy.io.wavfile import write\n",
    "from datetime import datetime, timedelta"
   ]
  },
  {
   "cell_type": "code",
   "execution_count": 2,
   "id": "ca7960f4",
   "metadata": {
    "execution": {
     "iopub.execute_input": "2024-05-31T09:35:51.944751Z",
     "iopub.status.busy": "2024-05-31T09:35:51.944352Z",
     "iopub.status.idle": "2024-05-31T09:35:52.911298Z",
     "shell.execute_reply": "2024-05-31T09:35:52.910055Z"
    },
    "papermill": {
     "duration": 0.976389,
     "end_time": "2024-05-31T09:35:52.913704",
     "exception": false,
     "start_time": "2024-05-31T09:35:51.937315",
     "status": "completed"
    },
    "tags": []
   },
   "outputs": [],
   "source": [
    "!mkdir data "
   ]
  },
  {
   "cell_type": "code",
   "execution_count": 3,
   "id": "c40a067c",
   "metadata": {
    "execution": {
     "iopub.execute_input": "2024-05-31T09:35:52.927698Z",
     "iopub.status.busy": "2024-05-31T09:35:52.926910Z",
     "iopub.status.idle": "2024-05-31T09:35:52.931984Z",
     "shell.execute_reply": "2024-05-31T09:35:52.931207Z"
    },
    "papermill": {
     "duration": 0.014095,
     "end_time": "2024-05-31T09:35:52.933867",
     "exception": false,
     "start_time": "2024-05-31T09:35:52.919772",
     "status": "completed"
    },
    "tags": []
   },
   "outputs": [],
   "source": [
    "# Set file paths for mechanical readings csv and wav file location\n",
    "DATA_PATH = \"/kaggle/input/rain-data-master-8k\"\n",
    "MECH_FILE_PATH = \"/kaggle/input/rain-data-master-8k/rain_data_mechanical_master.csv\"\n",
    "NON_MECH_PATH = \"/kaggle/input/rain-data-master-8k/rainfall_sound_8k\"\n",
    "Fs = 8000\n",
    "MAX_LEN = 1368000 # 171 sec @ Fs 8k samples/sec\n",
    "DAVIS_INTERVAL = 180"
   ]
  },
  {
   "cell_type": "code",
   "execution_count": 4,
   "id": "e8f368cd",
   "metadata": {
    "execution": {
     "iopub.execute_input": "2024-05-31T09:35:52.946605Z",
     "iopub.status.busy": "2024-05-31T09:35:52.946351Z",
     "iopub.status.idle": "2024-05-31T09:35:53.410057Z",
     "shell.execute_reply": "2024-05-31T09:35:53.409237Z"
    },
    "papermill": {
     "duration": 0.472583,
     "end_time": "2024-05-31T09:35:53.412368",
     "exception": false,
     "start_time": "2024-05-31T09:35:52.939785",
     "status": "completed"
    },
    "tags": []
   },
   "outputs": [],
   "source": [
    "# Read mechanical raingauge readings as csv using pandas\n",
    "mech_data = pd.read_csv(join(DATA_PATH, MECH_FILE_PATH))\n",
    "\n",
    "# Convert time column to pandas time datatype\n",
    "mech_data[\"Time\"]= pd.to_datetime(mech_data[\"Time\"])\n",
    "\n",
    "# Get list of wav files and sort them in ascending order\n",
    "wave_files = sorted(listdir(NON_MECH_PATH))\n",
    "\n",
    "# Get total count of wav files available\n",
    "N = len(wave_files)"
   ]
  },
  {
   "cell_type": "code",
   "execution_count": 5,
   "id": "2440bf64",
   "metadata": {
    "execution": {
     "iopub.execute_input": "2024-05-31T09:35:53.426552Z",
     "iopub.status.busy": "2024-05-31T09:35:53.426222Z",
     "iopub.status.idle": "2024-05-31T09:35:53.444004Z",
     "shell.execute_reply": "2024-05-31T09:35:53.442989Z"
    },
    "papermill": {
     "duration": 0.027664,
     "end_time": "2024-05-31T09:35:53.446387",
     "exception": false,
     "start_time": "2024-05-31T09:35:53.418723",
     "status": "completed"
    },
    "tags": []
   },
   "outputs": [
    {
     "data": {
      "text/html": [
       "<div>\n",
       "<style scoped>\n",
       "    .dataframe tbody tr th:only-of-type {\n",
       "        vertical-align: middle;\n",
       "    }\n",
       "\n",
       "    .dataframe tbody tr th {\n",
       "        vertical-align: top;\n",
       "    }\n",
       "\n",
       "    .dataframe thead th {\n",
       "        text-align: right;\n",
       "    }\n",
       "</style>\n",
       "<table border=\"1\" class=\"dataframe\">\n",
       "  <thead>\n",
       "    <tr style=\"text-align: right;\">\n",
       "      <th></th>\n",
       "      <th>Time</th>\n",
       "      <th>device_frmpayload_data_rainfall</th>\n",
       "    </tr>\n",
       "  </thead>\n",
       "  <tbody>\n",
       "    <tr>\n",
       "      <th>0</th>\n",
       "      <td>2023-11-22 18:27:26</td>\n",
       "      <td>800 µm</td>\n",
       "    </tr>\n",
       "    <tr>\n",
       "      <th>1</th>\n",
       "      <td>2023-11-22 18:30:26</td>\n",
       "      <td>1.40 mm</td>\n",
       "    </tr>\n",
       "  </tbody>\n",
       "</table>\n",
       "</div>"
      ],
      "text/plain": [
       "                 Time device_frmpayload_data_rainfall\n",
       "0 2023-11-22 18:27:26                          800 µm\n",
       "1 2023-11-22 18:30:26                         1.40 mm"
      ]
     },
     "execution_count": 5,
     "metadata": {},
     "output_type": "execute_result"
    }
   ],
   "source": [
    "mech_data.head(2)"
   ]
  },
  {
   "cell_type": "code",
   "execution_count": 6,
   "id": "c8e36acb",
   "metadata": {
    "execution": {
     "iopub.execute_input": "2024-05-31T09:35:53.461359Z",
     "iopub.status.busy": "2024-05-31T09:35:53.460999Z",
     "iopub.status.idle": "2024-05-31T09:35:53.466601Z",
     "shell.execute_reply": "2024-05-31T09:35:53.465779Z"
    },
    "papermill": {
     "duration": 0.014765,
     "end_time": "2024-05-31T09:35:53.468512",
     "exception": false,
     "start_time": "2024-05-31T09:35:53.453747",
     "status": "completed"
    },
    "tags": []
   },
   "outputs": [],
   "source": [
    "# Function to parse date and time components from wav filenames\n",
    "def filename_parser(filename):\n",
    "    year, month, day, hour, minute, second, _ = map(int, filename.split(\".\")[0].split(\"_\"))\n",
    "    return datetime(year, month, day, hour, minute, second)\n",
    "\n",
    "# Get the fist starting time available for wav files\n",
    "start_time = filename_parser(wave_files[0])\n",
    "\n",
    "# Get the last time available for wav files\n",
    "end_time = filename_parser(wave_files[-1])"
   ]
  },
  {
   "cell_type": "code",
   "execution_count": 7,
   "id": "ad3a35fe",
   "metadata": {
    "execution": {
     "iopub.execute_input": "2024-05-31T09:35:53.482107Z",
     "iopub.status.busy": "2024-05-31T09:35:53.481836Z",
     "iopub.status.idle": "2024-05-31T09:35:53.490171Z",
     "shell.execute_reply": "2024-05-31T09:35:53.489216Z"
    },
    "papermill": {
     "duration": 0.017635,
     "end_time": "2024-05-31T09:35:53.492347",
     "exception": false,
     "start_time": "2024-05-31T09:35:53.474712",
     "status": "completed"
    },
    "tags": []
   },
   "outputs": [],
   "source": [
    "# Find overlapping time instances where mechanical readings and wav files are available\n",
    "row_overlap = (mech_data[\"Time\"]>start_time)&(mech_data[\"Time\"]<end_time)\n",
    "mech_data = mech_data[row_overlap]"
   ]
  },
  {
   "cell_type": "code",
   "execution_count": 8,
   "id": "b6dfc198",
   "metadata": {
    "execution": {
     "iopub.execute_input": "2024-05-31T09:35:53.507289Z",
     "iopub.status.busy": "2024-05-31T09:35:53.506951Z",
     "iopub.status.idle": "2024-05-31T09:35:53.514078Z",
     "shell.execute_reply": "2024-05-31T09:35:53.513230Z"
    },
    "papermill": {
     "duration": 0.016662,
     "end_time": "2024-05-31T09:35:53.515915",
     "exception": false,
     "start_time": "2024-05-31T09:35:53.499253",
     "status": "completed"
    },
    "tags": []
   },
   "outputs": [],
   "source": [
    "mech_data[\"time_delta\"] = mech_data[\"Time\"].diff()\n",
    "mech_data[\"time_delta\"] = mech_data[\"time_delta\"].dt.total_seconds()"
   ]
  },
  {
   "cell_type": "code",
   "execution_count": 9,
   "id": "92aa35aa",
   "metadata": {
    "execution": {
     "iopub.execute_input": "2024-05-31T09:35:53.530356Z",
     "iopub.status.busy": "2024-05-31T09:35:53.529574Z",
     "iopub.status.idle": "2024-05-31T09:35:53.550133Z",
     "shell.execute_reply": "2024-05-31T09:35:53.549213Z"
    },
    "papermill": {
     "duration": 0.029795,
     "end_time": "2024-05-31T09:35:53.552195",
     "exception": false,
     "start_time": "2024-05-31T09:35:53.522400",
     "status": "completed"
    },
    "tags": []
   },
   "outputs": [
    {
     "data": {
      "text/plain": [
       "Index(['2023-12-17', '2023-11-23', '2024-05-20', '2024-05-29', '2024-05-28',\n",
       "       '2023-11-22', '2024-05-21', '2024-01-05', '2023-12-02', '2024-05-26',\n",
       "       '2024-05-17', '2024-04-23', '2024-05-24', '2024-05-15', '2024-05-25',\n",
       "       '2024-05-22', '2024-05-27', '2024-05-11', '2023-12-16', '2024-04-24',\n",
       "       '2024-04-30', '2023-12-18', '2023-12-08', '2024-05-16', '2024-04-27',\n",
       "       '2024-05-14', '2024-05-12'],\n",
       "      dtype='object', name='YMD')"
      ]
     },
     "execution_count": 9,
     "metadata": {},
     "output_type": "execute_result"
    }
   ],
   "source": [
    "# To find the number of unique days where we have recording available\n",
    "mech_data[\"Time\"] = mech_data[\"Time\"].astype('str')\n",
    "mech_data[[\"YMD\", \"HMS\"]] = mech_data[\"Time\"].str.split(\" \",expand=True)\n",
    "mech_data[\"YMD\"].value_counts().keys()"
   ]
  },
  {
   "cell_type": "code",
   "execution_count": 10,
   "id": "2a4ddd13",
   "metadata": {
    "execution": {
     "iopub.execute_input": "2024-05-31T09:35:53.567023Z",
     "iopub.status.busy": "2024-05-31T09:35:53.566714Z",
     "iopub.status.idle": "2024-05-31T09:35:53.574602Z",
     "shell.execute_reply": "2024-05-31T09:35:53.573688Z"
    },
    "papermill": {
     "duration": 0.017788,
     "end_time": "2024-05-31T09:35:53.576881",
     "exception": false,
     "start_time": "2024-05-31T09:35:53.559093",
     "status": "completed"
    },
    "tags": []
   },
   "outputs": [],
   "source": [
    "mech_data[\"Time\"]= pd.to_datetime(mech_data[\"Time\"])\n",
    "mech_data = mech_data[[\"Time\", \"device_frmpayload_data_rainfall\"]]"
   ]
  },
  {
   "cell_type": "code",
   "execution_count": 11,
   "id": "be9838d7",
   "metadata": {
    "execution": {
     "iopub.execute_input": "2024-05-31T09:35:53.592744Z",
     "iopub.status.busy": "2024-05-31T09:35:53.592442Z",
     "iopub.status.idle": "2024-05-31T09:35:53.596328Z",
     "shell.execute_reply": "2024-05-31T09:35:53.595476Z"
    },
    "papermill": {
     "duration": 0.013783,
     "end_time": "2024-05-31T09:35:53.598428",
     "exception": false,
     "start_time": "2024-05-31T09:35:53.584645",
     "status": "completed"
    },
    "tags": []
   },
   "outputs": [],
   "source": [
    "# mech_data = mech_data[mech_data[\"rainfall\"]!=0.0]"
   ]
  },
  {
   "cell_type": "code",
   "execution_count": 12,
   "id": "5c8d1ff1",
   "metadata": {
    "execution": {
     "iopub.execute_input": "2024-05-31T09:35:53.613643Z",
     "iopub.status.busy": "2024-05-31T09:35:53.613098Z",
     "iopub.status.idle": "2024-05-31T09:35:53.625220Z",
     "shell.execute_reply": "2024-05-31T09:35:53.624320Z"
    },
    "papermill": {
     "duration": 0.021823,
     "end_time": "2024-05-31T09:35:53.627288",
     "exception": false,
     "start_time": "2024-05-31T09:35:53.605465",
     "status": "completed"
    },
    "tags": []
   },
   "outputs": [
    {
     "data": {
      "text/html": [
       "<div>\n",
       "<style scoped>\n",
       "    .dataframe tbody tr th:only-of-type {\n",
       "        vertical-align: middle;\n",
       "    }\n",
       "\n",
       "    .dataframe tbody tr th {\n",
       "        vertical-align: top;\n",
       "    }\n",
       "\n",
       "    .dataframe thead th {\n",
       "        text-align: right;\n",
       "    }\n",
       "</style>\n",
       "<table border=\"1\" class=\"dataframe\">\n",
       "  <thead>\n",
       "    <tr style=\"text-align: right;\">\n",
       "      <th></th>\n",
       "      <th>Time</th>\n",
       "      <th>device_frmpayload_data_rainfall</th>\n",
       "    </tr>\n",
       "  </thead>\n",
       "  <tbody>\n",
       "    <tr>\n",
       "      <th>0</th>\n",
       "      <td>2023-11-22 18:27:26</td>\n",
       "      <td>800 µm</td>\n",
       "    </tr>\n",
       "    <tr>\n",
       "      <th>1</th>\n",
       "      <td>2023-11-22 18:30:26</td>\n",
       "      <td>1.40 mm</td>\n",
       "    </tr>\n",
       "    <tr>\n",
       "      <th>2</th>\n",
       "      <td>2023-11-22 18:33:26</td>\n",
       "      <td>1 mm</td>\n",
       "    </tr>\n",
       "    <tr>\n",
       "      <th>3</th>\n",
       "      <td>2023-11-22 18:36:26</td>\n",
       "      <td>1.40 mm</td>\n",
       "    </tr>\n",
       "    <tr>\n",
       "      <th>4</th>\n",
       "      <td>2023-11-22 18:39:26</td>\n",
       "      <td>200 µm</td>\n",
       "    </tr>\n",
       "    <tr>\n",
       "      <th>...</th>\n",
       "      <td>...</td>\n",
       "      <td>...</td>\n",
       "    </tr>\n",
       "    <tr>\n",
       "      <th>1342</th>\n",
       "      <td>2024-05-29 16:38:56</td>\n",
       "      <td>0.6 mm</td>\n",
       "    </tr>\n",
       "    <tr>\n",
       "      <th>1343</th>\n",
       "      <td>2024-05-29 16:47:56</td>\n",
       "      <td>0.6 mm</td>\n",
       "    </tr>\n",
       "    <tr>\n",
       "      <th>1344</th>\n",
       "      <td>2024-05-29 17:02:56</td>\n",
       "      <td>0.6 mm</td>\n",
       "    </tr>\n",
       "    <tr>\n",
       "      <th>1345</th>\n",
       "      <td>2024-05-29 17:05:56</td>\n",
       "      <td>0.6 mm</td>\n",
       "    </tr>\n",
       "    <tr>\n",
       "      <th>1346</th>\n",
       "      <td>2024-05-29 17:08:56</td>\n",
       "      <td>0.6 mm</td>\n",
       "    </tr>\n",
       "  </tbody>\n",
       "</table>\n",
       "<p>1347 rows × 2 columns</p>\n",
       "</div>"
      ],
      "text/plain": [
       "                    Time device_frmpayload_data_rainfall\n",
       "0    2023-11-22 18:27:26                          800 µm\n",
       "1    2023-11-22 18:30:26                         1.40 mm\n",
       "2    2023-11-22 18:33:26                            1 mm\n",
       "3    2023-11-22 18:36:26                         1.40 mm\n",
       "4    2023-11-22 18:39:26                          200 µm\n",
       "...                  ...                             ...\n",
       "1342 2024-05-29 16:38:56                          0.6 mm\n",
       "1343 2024-05-29 16:47:56                          0.6 mm\n",
       "1344 2024-05-29 17:02:56                          0.6 mm\n",
       "1345 2024-05-29 17:05:56                          0.6 mm\n",
       "1346 2024-05-29 17:08:56                          0.6 mm\n",
       "\n",
       "[1347 rows x 2 columns]"
      ]
     },
     "execution_count": 12,
     "metadata": {},
     "output_type": "execute_result"
    }
   ],
   "source": [
    "mech_data"
   ]
  },
  {
   "cell_type": "code",
   "execution_count": 13,
   "id": "0a22fe96",
   "metadata": {
    "execution": {
     "iopub.execute_input": "2024-05-31T09:35:53.642705Z",
     "iopub.status.busy": "2024-05-31T09:35:53.642428Z",
     "iopub.status.idle": "2024-05-31T09:35:53.647216Z",
     "shell.execute_reply": "2024-05-31T09:35:53.646325Z"
    },
    "papermill": {
     "duration": 0.014648,
     "end_time": "2024-05-31T09:35:53.649170",
     "exception": false,
     "start_time": "2024-05-31T09:35:53.634522",
     "status": "completed"
    },
    "tags": []
   },
   "outputs": [],
   "source": [
    "# Function to load a wav file using librosa and get its sampling rate and duration\n",
    "def load_wav(file_path, Fs=Fs):\n",
    "    audio, Fs = librosa.load(file_path, sr=Fs)\n",
    "    duration = librosa.get_duration(y=audio, sr=Fs)\n",
    "    return audio, Fs, duration"
   ]
  },
  {
   "cell_type": "code",
   "execution_count": 14,
   "id": "eacfebbe",
   "metadata": {
    "execution": {
     "iopub.execute_input": "2024-05-31T09:35:53.664582Z",
     "iopub.status.busy": "2024-05-31T09:35:53.664307Z",
     "iopub.status.idle": "2024-05-31T09:35:53.675746Z",
     "shell.execute_reply": "2024-05-31T09:35:53.674847Z"
    },
    "papermill": {
     "duration": 0.021402,
     "end_time": "2024-05-31T09:35:53.677713",
     "exception": false,
     "start_time": "2024-05-31T09:35:53.656311",
     "status": "completed"
    },
    "tags": []
   },
   "outputs": [
    {
     "data": {
      "text/html": [
       "<div>\n",
       "<style scoped>\n",
       "    .dataframe tbody tr th:only-of-type {\n",
       "        vertical-align: middle;\n",
       "    }\n",
       "\n",
       "    .dataframe tbody tr th {\n",
       "        vertical-align: top;\n",
       "    }\n",
       "\n",
       "    .dataframe thead th {\n",
       "        text-align: right;\n",
       "    }\n",
       "</style>\n",
       "<table border=\"1\" class=\"dataframe\">\n",
       "  <thead>\n",
       "    <tr style=\"text-align: right;\">\n",
       "      <th></th>\n",
       "      <th>Time</th>\n",
       "      <th>device_frmpayload_data_rainfall</th>\n",
       "    </tr>\n",
       "  </thead>\n",
       "  <tbody>\n",
       "    <tr>\n",
       "      <th>0</th>\n",
       "      <td>2023-11-22 18:27:26</td>\n",
       "      <td>800 µm</td>\n",
       "    </tr>\n",
       "    <tr>\n",
       "      <th>1</th>\n",
       "      <td>2023-11-22 18:30:26</td>\n",
       "      <td>1.40 mm</td>\n",
       "    </tr>\n",
       "    <tr>\n",
       "      <th>2</th>\n",
       "      <td>2023-11-22 18:33:26</td>\n",
       "      <td>1 mm</td>\n",
       "    </tr>\n",
       "    <tr>\n",
       "      <th>3</th>\n",
       "      <td>2023-11-22 18:36:26</td>\n",
       "      <td>1.40 mm</td>\n",
       "    </tr>\n",
       "    <tr>\n",
       "      <th>4</th>\n",
       "      <td>2023-11-22 18:39:26</td>\n",
       "      <td>200 µm</td>\n",
       "    </tr>\n",
       "    <tr>\n",
       "      <th>...</th>\n",
       "      <td>...</td>\n",
       "      <td>...</td>\n",
       "    </tr>\n",
       "    <tr>\n",
       "      <th>1342</th>\n",
       "      <td>2024-05-29 16:38:56</td>\n",
       "      <td>0.6 mm</td>\n",
       "    </tr>\n",
       "    <tr>\n",
       "      <th>1343</th>\n",
       "      <td>2024-05-29 16:47:56</td>\n",
       "      <td>0.6 mm</td>\n",
       "    </tr>\n",
       "    <tr>\n",
       "      <th>1344</th>\n",
       "      <td>2024-05-29 17:02:56</td>\n",
       "      <td>0.6 mm</td>\n",
       "    </tr>\n",
       "    <tr>\n",
       "      <th>1345</th>\n",
       "      <td>2024-05-29 17:05:56</td>\n",
       "      <td>0.6 mm</td>\n",
       "    </tr>\n",
       "    <tr>\n",
       "      <th>1346</th>\n",
       "      <td>2024-05-29 17:08:56</td>\n",
       "      <td>0.6 mm</td>\n",
       "    </tr>\n",
       "  </tbody>\n",
       "</table>\n",
       "<p>1347 rows × 2 columns</p>\n",
       "</div>"
      ],
      "text/plain": [
       "                    Time device_frmpayload_data_rainfall\n",
       "0    2023-11-22 18:27:26                          800 µm\n",
       "1    2023-11-22 18:30:26                         1.40 mm\n",
       "2    2023-11-22 18:33:26                            1 mm\n",
       "3    2023-11-22 18:36:26                         1.40 mm\n",
       "4    2023-11-22 18:39:26                          200 µm\n",
       "...                  ...                             ...\n",
       "1342 2024-05-29 16:38:56                          0.6 mm\n",
       "1343 2024-05-29 16:47:56                          0.6 mm\n",
       "1344 2024-05-29 17:02:56                          0.6 mm\n",
       "1345 2024-05-29 17:05:56                          0.6 mm\n",
       "1346 2024-05-29 17:08:56                          0.6 mm\n",
       "\n",
       "[1347 rows x 2 columns]"
      ]
     },
     "execution_count": 14,
     "metadata": {},
     "output_type": "execute_result"
    }
   ],
   "source": [
    "mech_data"
   ]
  },
  {
   "cell_type": "code",
   "execution_count": 15,
   "id": "88ad9056",
   "metadata": {
    "execution": {
     "iopub.execute_input": "2024-05-31T09:35:53.694400Z",
     "iopub.status.busy": "2024-05-31T09:35:53.693911Z",
     "iopub.status.idle": "2024-05-31T09:35:53.698897Z",
     "shell.execute_reply": "2024-05-31T09:35:53.697992Z"
    },
    "papermill": {
     "duration": 0.015513,
     "end_time": "2024-05-31T09:35:53.701006",
     "exception": false,
     "start_time": "2024-05-31T09:35:53.685493",
     "status": "completed"
    },
    "tags": []
   },
   "outputs": [],
   "source": [
    "def get_fname_time(file_name):\n",
    "    file_name_short = file_name.split(\"_\")[:-1]\n",
    "    year, month, day, hour, minute, second = map(int, file_name_short)\n",
    "    fname_time = datetime(year, month, day, hour, minute, second)\n",
    "    return fname_time"
   ]
  },
  {
   "cell_type": "code",
   "execution_count": 16,
   "id": "acb333f7",
   "metadata": {
    "execution": {
     "iopub.execute_input": "2024-05-31T09:35:53.717412Z",
     "iopub.status.busy": "2024-05-31T09:35:53.717132Z",
     "iopub.status.idle": "2024-05-31T09:35:53.721354Z",
     "shell.execute_reply": "2024-05-31T09:35:53.720507Z"
    },
    "papermill": {
     "duration": 0.014647,
     "end_time": "2024-05-31T09:35:53.723162",
     "exception": false,
     "start_time": "2024-05-31T09:35:53.708515",
     "status": "completed"
    },
    "tags": []
   },
   "outputs": [],
   "source": [
    "def ftime_to_fname(ftime):\n",
    "    ftime_prev = ftime.strftime('%Y_%m_%d_%H_%M_%S')\n",
    "    return ftime_prev"
   ]
  },
  {
   "cell_type": "code",
   "execution_count": 17,
   "id": "a20a7aa6",
   "metadata": {
    "execution": {
     "iopub.execute_input": "2024-05-31T09:35:53.739854Z",
     "iopub.status.busy": "2024-05-31T09:35:53.739581Z",
     "iopub.status.idle": "2024-05-31T09:35:53.744815Z",
     "shell.execute_reply": "2024-05-31T09:35:53.743943Z"
    },
    "papermill": {
     "duration": 0.015813,
     "end_time": "2024-05-31T09:35:53.746824",
     "exception": false,
     "start_time": "2024-05-31T09:35:53.731011",
     "status": "completed"
    },
    "tags": []
   },
   "outputs": [],
   "source": [
    "def filter_files(filenames, start_time, timestamp):\n",
    "    filtered_files = []\n",
    "    offset = timedelta(minutes=3)\n",
    "    start_time -= offset\n",
    "    timestamp += offset\n",
    "    for filename in filenames:\n",
    "        fname_time = get_fname_time(filename).replace(microsecond=0)\n",
    "        if start_time <= fname_time <= timestamp:\n",
    "            filtered_files.append(filename)\n",
    "    return filtered_files"
   ]
  },
  {
   "cell_type": "code",
   "execution_count": 18,
   "id": "5b3faf40",
   "metadata": {
    "execution": {
     "iopub.execute_input": "2024-05-31T09:35:53.763490Z",
     "iopub.status.busy": "2024-05-31T09:35:53.763194Z",
     "iopub.status.idle": "2024-05-31T09:35:53.772652Z",
     "shell.execute_reply": "2024-05-31T09:35:53.771817Z"
    },
    "papermill": {
     "duration": 0.020129,
     "end_time": "2024-05-31T09:35:53.774705",
     "exception": false,
     "start_time": "2024-05-31T09:35:53.754576",
     "status": "completed"
    },
    "tags": []
   },
   "outputs": [],
   "source": [
    "def combine_audio(timestamp, filenames):\n",
    "    start_time = timestamp - timedelta(seconds=DAVIS_INTERVAL)\n",
    "    combined_audio = []\n",
    "    filtered_files = filter_files(filenames, start_time, timestamp)\n",
    "    for filename in filtered_files:\n",
    "        file_path = join(NON_MECH_PATH, filename)\n",
    "        audio_data, sampling_rate, audio_duration = load_wav(file_path)\n",
    "        fname_time = get_fname_time(filename).replace(microsecond=0)\n",
    "        fname_end_time = fname_time+timedelta(seconds=audio_duration)\n",
    "#         print(start_time, timestamp, fname_time, fname_end_time)\n",
    "        if fname_time<start_time and fname_end_time<=start_time:\n",
    "            continue\n",
    "        elif fname_time<start_time and fname_end_time>start_time:\n",
    "#             print(\"Getting parts of: \", filename)\n",
    "            end_secs = (fname_end_time-start_time).total_seconds()\n",
    "            init_secs = audio_duration-end_secs\n",
    "            audio_data = audio_data[int(init_secs*sampling_rate):]\n",
    "        elif fname_time==start_time or fname_end_time==timestamp:\n",
    "#             print(\"Getting fullof\")\n",
    "            pass\n",
    "        elif fname_time>start_time and fname_end_time<timestamp:\n",
    "#             print(\"Getting fullof\")\n",
    "            pass\n",
    "        elif fname_time<timestamp and fname_end_time>timestamp:\n",
    "#             print(\"Getting parts of: \", filename)\n",
    "            end_secs = (fname_end_time-timestamp).total_seconds()\n",
    "            init_secs = audio_duration-end_secs\n",
    "            audio_data = audio_data[:int(init_secs*sampling_rate)]\n",
    "        elif fname_time>=timestamp:\n",
    "            continue\n",
    "        combined_audio.extend(audio_data)\n",
    "    combined_audio = np.array(combined_audio)\n",
    "    return combined_audio"
   ]
  },
  {
   "cell_type": "code",
   "execution_count": 19,
   "id": "3d40b398",
   "metadata": {
    "execution": {
     "iopub.execute_input": "2024-05-31T09:35:53.792771Z",
     "iopub.status.busy": "2024-05-31T09:35:53.791993Z",
     "iopub.status.idle": "2024-05-31T09:52:18.080750Z",
     "shell.execute_reply": "2024-05-31T09:52:18.079702Z"
    },
    "papermill": {
     "duration": 984.300102,
     "end_time": "2024-05-31T09:52:18.082845",
     "exception": false,
     "start_time": "2024-05-31T09:35:53.782743",
     "status": "completed"
    },
    "tags": []
   },
   "outputs": [
    {
     "name": "stderr",
     "output_type": "stream",
     "text": [
      "100%|██████████| 1347/1347 [16:24<00:00,  1.37it/s]\n"
     ]
    }
   ],
   "source": [
    "data_basic = pd.DataFrame()\n",
    "target = np.array([])\n",
    "audio_lens=[]\n",
    "for idx, row in tqdm(mech_data.iterrows(), total=mech_data.shape[0]):\n",
    "    check_point = row[\"Time\"]\n",
    "    rainfall = row[\"device_frmpayload_data_rainfall\"]\n",
    "    audio_sample = combine_audio(check_point, wave_files)\n",
    "    audio_len = audio_sample.shape[0]\n",
    "    audio_lens.append(audio_len)\n",
    "    if audio_sample.shape[0]>=MAX_LEN:\n",
    "        audio_sample = audio_sample[-MAX_LEN:]\n",
    "#         write(join(\"data\",\"audio_{}.wav\".format(idx)), Fs, audio_sample)\n",
    "        with open(join(\"data\",\"audio_{}.npy\".format(idx)), \"wb\") as f:\n",
    "            np.save(f, audio_sample)\n",
    "        data_row = {\"checkpoint\": check_point,\n",
    "                    \"fname\": \"audio_{}.wav\".format(idx), \n",
    "                    \"target\": row[\"device_frmpayload_data_rainfall\"]}\n",
    "        data_basic = pd.concat([data_basic, pd.DataFrame([data_row])], ignore_index=True)"
   ]
  },
  {
   "cell_type": "code",
   "execution_count": 20,
   "id": "d4a0432d",
   "metadata": {
    "execution": {
     "iopub.execute_input": "2024-05-31T09:52:18.309449Z",
     "iopub.status.busy": "2024-05-31T09:52:18.308459Z",
     "iopub.status.idle": "2024-05-31T09:52:18.314035Z",
     "shell.execute_reply": "2024-05-31T09:52:18.313191Z"
    },
    "papermill": {
     "duration": 0.117707,
     "end_time": "2024-05-31T09:52:18.315904",
     "exception": false,
     "start_time": "2024-05-31T09:52:18.198197",
     "status": "completed"
    },
    "tags": []
   },
   "outputs": [],
   "source": [
    "# Function to trim unit from target column and convert all values to millimeters\n",
    "def format_rainfall(rain_fall):\n",
    "    rain_fall, unit = rain_fall.split(\" \")\n",
    "    if unit == \"µm\":\n",
    "        rain_fall = float(rain_fall)/(10**3)\n",
    "    elif unit == \"mm\":\n",
    "        rain_fall = float(rain_fall)\n",
    "    return rain_fall"
   ]
  },
  {
   "cell_type": "code",
   "execution_count": 21,
   "id": "c698ca76",
   "metadata": {
    "execution": {
     "iopub.execute_input": "2024-05-31T09:52:18.537049Z",
     "iopub.status.busy": "2024-05-31T09:52:18.536324Z",
     "iopub.status.idle": "2024-05-31T09:52:18.543949Z",
     "shell.execute_reply": "2024-05-31T09:52:18.543111Z"
    },
    "papermill": {
     "duration": 0.121283,
     "end_time": "2024-05-31T09:52:18.545960",
     "exception": false,
     "start_time": "2024-05-31T09:52:18.424677",
     "status": "completed"
    },
    "tags": []
   },
   "outputs": [],
   "source": [
    "data_basic[\"target\"] = data_basic[\"target\"].apply(format_rainfall)\n",
    "mech_data[\"device_frmpayload_data_rainfall\"] = mech_data[\"device_frmpayload_data_rainfall\"].apply(format_rainfall)"
   ]
  },
  {
   "cell_type": "code",
   "execution_count": 22,
   "id": "4023dcdc",
   "metadata": {
    "execution": {
     "iopub.execute_input": "2024-05-31T09:52:18.771913Z",
     "iopub.status.busy": "2024-05-31T09:52:18.771521Z",
     "iopub.status.idle": "2024-05-31T09:52:18.776935Z",
     "shell.execute_reply": "2024-05-31T09:52:18.775976Z"
    },
    "papermill": {
     "duration": 0.122665,
     "end_time": "2024-05-31T09:52:18.779367",
     "exception": false,
     "start_time": "2024-05-31T09:52:18.656702",
     "status": "completed"
    },
    "tags": []
   },
   "outputs": [
    {
     "name": "stdout",
     "output_type": "stream",
     "text": [
      "Counter({1392000: 291, 1384000: 161, 1424000: 154, 1376000: 151, 1368000: 141, 0: 74, 1400000: 72, 1360000: 53, 1408000: 46, 1416000: 34, 1320000: 30, 1328000: 28, 1344000: 26, 1336000: 26, 1352000: 21, 1432000: 16, 1312000: 5, 1296000: 4, 8000: 2, 1208000: 1, 16000: 1, 1304000: 1, 848000: 1, 1192000: 1, 1184000: 1, 248000: 1, 1160000: 1, 880000: 1, 288000: 1, 272000: 1, 96000: 1})\n"
     ]
    }
   ],
   "source": [
    "print(Counter(audio_lens))"
   ]
  },
  {
   "cell_type": "code",
   "execution_count": 23,
   "id": "73280807",
   "metadata": {
    "execution": {
     "iopub.execute_input": "2024-05-31T09:52:19.021341Z",
     "iopub.status.busy": "2024-05-31T09:52:19.020622Z",
     "iopub.status.idle": "2024-05-31T09:52:19.043345Z",
     "shell.execute_reply": "2024-05-31T09:52:19.042604Z"
    },
    "papermill": {
     "duration": 0.139662,
     "end_time": "2024-05-31T09:52:19.045349",
     "exception": false,
     "start_time": "2024-05-31T09:52:18.905687",
     "status": "completed"
    },
    "tags": []
   },
   "outputs": [],
   "source": [
    "data_basic.to_csv(\"data_basic.csv\")\n",
    "mech_data.to_csv(\"mech_data.csv\")"
   ]
  },
  {
   "cell_type": "code",
   "execution_count": 24,
   "id": "511f4378",
   "metadata": {
    "execution": {
     "iopub.execute_input": "2024-05-31T09:52:19.267740Z",
     "iopub.status.busy": "2024-05-31T09:52:19.267405Z",
     "iopub.status.idle": "2024-05-31T09:52:19.280231Z",
     "shell.execute_reply": "2024-05-31T09:52:19.279345Z"
    },
    "papermill": {
     "duration": 0.125943,
     "end_time": "2024-05-31T09:52:19.282139",
     "exception": false,
     "start_time": "2024-05-31T09:52:19.156196",
     "status": "completed"
    },
    "tags": []
   },
   "outputs": [
    {
     "data": {
      "text/html": [
       "<div>\n",
       "<style scoped>\n",
       "    .dataframe tbody tr th:only-of-type {\n",
       "        vertical-align: middle;\n",
       "    }\n",
       "\n",
       "    .dataframe tbody tr th {\n",
       "        vertical-align: top;\n",
       "    }\n",
       "\n",
       "    .dataframe thead th {\n",
       "        text-align: right;\n",
       "    }\n",
       "</style>\n",
       "<table border=\"1\" class=\"dataframe\">\n",
       "  <thead>\n",
       "    <tr style=\"text-align: right;\">\n",
       "      <th></th>\n",
       "      <th>Time</th>\n",
       "      <th>device_frmpayload_data_rainfall</th>\n",
       "    </tr>\n",
       "  </thead>\n",
       "  <tbody>\n",
       "    <tr>\n",
       "      <th>0</th>\n",
       "      <td>2023-11-22 18:27:26</td>\n",
       "      <td>0.8</td>\n",
       "    </tr>\n",
       "    <tr>\n",
       "      <th>1</th>\n",
       "      <td>2023-11-22 18:30:26</td>\n",
       "      <td>1.4</td>\n",
       "    </tr>\n",
       "    <tr>\n",
       "      <th>2</th>\n",
       "      <td>2023-11-22 18:33:26</td>\n",
       "      <td>1.0</td>\n",
       "    </tr>\n",
       "    <tr>\n",
       "      <th>3</th>\n",
       "      <td>2023-11-22 18:36:26</td>\n",
       "      <td>1.4</td>\n",
       "    </tr>\n",
       "    <tr>\n",
       "      <th>4</th>\n",
       "      <td>2023-11-22 18:39:26</td>\n",
       "      <td>0.2</td>\n",
       "    </tr>\n",
       "    <tr>\n",
       "      <th>...</th>\n",
       "      <td>...</td>\n",
       "      <td>...</td>\n",
       "    </tr>\n",
       "    <tr>\n",
       "      <th>1342</th>\n",
       "      <td>2024-05-29 16:38:56</td>\n",
       "      <td>0.6</td>\n",
       "    </tr>\n",
       "    <tr>\n",
       "      <th>1343</th>\n",
       "      <td>2024-05-29 16:47:56</td>\n",
       "      <td>0.6</td>\n",
       "    </tr>\n",
       "    <tr>\n",
       "      <th>1344</th>\n",
       "      <td>2024-05-29 17:02:56</td>\n",
       "      <td>0.6</td>\n",
       "    </tr>\n",
       "    <tr>\n",
       "      <th>1345</th>\n",
       "      <td>2024-05-29 17:05:56</td>\n",
       "      <td>0.6</td>\n",
       "    </tr>\n",
       "    <tr>\n",
       "      <th>1346</th>\n",
       "      <td>2024-05-29 17:08:56</td>\n",
       "      <td>0.6</td>\n",
       "    </tr>\n",
       "  </tbody>\n",
       "</table>\n",
       "<p>1347 rows × 2 columns</p>\n",
       "</div>"
      ],
      "text/plain": [
       "                    Time  device_frmpayload_data_rainfall\n",
       "0    2023-11-22 18:27:26                              0.8\n",
       "1    2023-11-22 18:30:26                              1.4\n",
       "2    2023-11-22 18:33:26                              1.0\n",
       "3    2023-11-22 18:36:26                              1.4\n",
       "4    2023-11-22 18:39:26                              0.2\n",
       "...                  ...                              ...\n",
       "1342 2024-05-29 16:38:56                              0.6\n",
       "1343 2024-05-29 16:47:56                              0.6\n",
       "1344 2024-05-29 17:02:56                              0.6\n",
       "1345 2024-05-29 17:05:56                              0.6\n",
       "1346 2024-05-29 17:08:56                              0.6\n",
       "\n",
       "[1347 rows x 2 columns]"
      ]
     },
     "execution_count": 24,
     "metadata": {},
     "output_type": "execute_result"
    }
   ],
   "source": [
    "mech_data"
   ]
  },
  {
   "cell_type": "code",
   "execution_count": 25,
   "id": "ba3907b5",
   "metadata": {
    "execution": {
     "iopub.execute_input": "2024-05-31T09:52:19.505637Z",
     "iopub.status.busy": "2024-05-31T09:52:19.504766Z",
     "iopub.status.idle": "2024-05-31T09:52:19.518236Z",
     "shell.execute_reply": "2024-05-31T09:52:19.517379Z"
    },
    "papermill": {
     "duration": 0.128556,
     "end_time": "2024-05-31T09:52:19.520337",
     "exception": false,
     "start_time": "2024-05-31T09:52:19.391781",
     "status": "completed"
    },
    "tags": []
   },
   "outputs": [
    {
     "data": {
      "text/html": [
       "<div>\n",
       "<style scoped>\n",
       "    .dataframe tbody tr th:only-of-type {\n",
       "        vertical-align: middle;\n",
       "    }\n",
       "\n",
       "    .dataframe tbody tr th {\n",
       "        vertical-align: top;\n",
       "    }\n",
       "\n",
       "    .dataframe thead th {\n",
       "        text-align: right;\n",
       "    }\n",
       "</style>\n",
       "<table border=\"1\" class=\"dataframe\">\n",
       "  <thead>\n",
       "    <tr style=\"text-align: right;\">\n",
       "      <th></th>\n",
       "      <th>checkpoint</th>\n",
       "      <th>fname</th>\n",
       "      <th>target</th>\n",
       "    </tr>\n",
       "  </thead>\n",
       "  <tbody>\n",
       "    <tr>\n",
       "      <th>0</th>\n",
       "      <td>2023-11-22 18:27:26</td>\n",
       "      <td>audio_0.wav</td>\n",
       "      <td>0.8</td>\n",
       "    </tr>\n",
       "    <tr>\n",
       "      <th>1</th>\n",
       "      <td>2023-11-22 18:30:26</td>\n",
       "      <td>audio_1.wav</td>\n",
       "      <td>1.4</td>\n",
       "    </tr>\n",
       "    <tr>\n",
       "      <th>2</th>\n",
       "      <td>2023-11-22 18:33:26</td>\n",
       "      <td>audio_2.wav</td>\n",
       "      <td>1.0</td>\n",
       "    </tr>\n",
       "    <tr>\n",
       "      <th>3</th>\n",
       "      <td>2023-11-22 18:36:26</td>\n",
       "      <td>audio_3.wav</td>\n",
       "      <td>1.4</td>\n",
       "    </tr>\n",
       "    <tr>\n",
       "      <th>4</th>\n",
       "      <td>2023-11-22 18:39:26</td>\n",
       "      <td>audio_4.wav</td>\n",
       "      <td>0.2</td>\n",
       "    </tr>\n",
       "    <tr>\n",
       "      <th>...</th>\n",
       "      <td>...</td>\n",
       "      <td>...</td>\n",
       "      <td>...</td>\n",
       "    </tr>\n",
       "    <tr>\n",
       "      <th>1061</th>\n",
       "      <td>2024-05-29 16:20:56</td>\n",
       "      <td>audio_1339.wav</td>\n",
       "      <td>0.6</td>\n",
       "    </tr>\n",
       "    <tr>\n",
       "      <th>1062</th>\n",
       "      <td>2024-05-29 16:23:56</td>\n",
       "      <td>audio_1340.wav</td>\n",
       "      <td>0.6</td>\n",
       "    </tr>\n",
       "    <tr>\n",
       "      <th>1063</th>\n",
       "      <td>2024-05-29 16:26:56</td>\n",
       "      <td>audio_1341.wav</td>\n",
       "      <td>0.6</td>\n",
       "    </tr>\n",
       "    <tr>\n",
       "      <th>1064</th>\n",
       "      <td>2024-05-29 17:05:56</td>\n",
       "      <td>audio_1345.wav</td>\n",
       "      <td>0.6</td>\n",
       "    </tr>\n",
       "    <tr>\n",
       "      <th>1065</th>\n",
       "      <td>2024-05-29 17:08:56</td>\n",
       "      <td>audio_1346.wav</td>\n",
       "      <td>0.6</td>\n",
       "    </tr>\n",
       "  </tbody>\n",
       "</table>\n",
       "<p>1066 rows × 3 columns</p>\n",
       "</div>"
      ],
      "text/plain": [
       "              checkpoint           fname  target\n",
       "0    2023-11-22 18:27:26     audio_0.wav     0.8\n",
       "1    2023-11-22 18:30:26     audio_1.wav     1.4\n",
       "2    2023-11-22 18:33:26     audio_2.wav     1.0\n",
       "3    2023-11-22 18:36:26     audio_3.wav     1.4\n",
       "4    2023-11-22 18:39:26     audio_4.wav     0.2\n",
       "...                  ...             ...     ...\n",
       "1061 2024-05-29 16:20:56  audio_1339.wav     0.6\n",
       "1062 2024-05-29 16:23:56  audio_1340.wav     0.6\n",
       "1063 2024-05-29 16:26:56  audio_1341.wav     0.6\n",
       "1064 2024-05-29 17:05:56  audio_1345.wav     0.6\n",
       "1065 2024-05-29 17:08:56  audio_1346.wav     0.6\n",
       "\n",
       "[1066 rows x 3 columns]"
      ]
     },
     "execution_count": 25,
     "metadata": {},
     "output_type": "execute_result"
    }
   ],
   "source": [
    "data_basic"
   ]
  },
  {
   "cell_type": "code",
   "execution_count": null,
   "id": "89d6b955",
   "metadata": {
    "papermill": {
     "duration": 0.111462,
     "end_time": "2024-05-31T09:52:19.746473",
     "exception": false,
     "start_time": "2024-05-31T09:52:19.635011",
     "status": "completed"
    },
    "tags": []
   },
   "outputs": [],
   "source": []
  }
 ],
 "metadata": {
  "kaggle": {
   "accelerator": "none",
   "dataSources": [
    {
     "datasetId": 4150257,
     "isSourceIdPinned": false,
     "sourceId": 8568857,
     "sourceType": "datasetVersion"
    }
   ],
   "dockerImageVersionId": 30587,
   "isGpuEnabled": false,
   "isInternetEnabled": true,
   "language": "python",
   "sourceType": "notebook"
  },
  "kernelspec": {
   "display_name": "Python 3",
   "language": "python",
   "name": "python3"
  },
  "language_info": {
   "codemirror_mode": {
    "name": "ipython",
    "version": 3
   },
   "file_extension": ".py",
   "mimetype": "text/x-python",
   "name": "python",
   "nbconvert_exporter": "python",
   "pygments_lexer": "ipython3",
   "version": "3.10.12"
  },
  "papermill": {
   "default_parameters": {},
   "duration": 993.047301,
   "end_time": "2024-05-31T09:52:20.579290",
   "environment_variables": {},
   "exception": null,
   "input_path": "__notebook__.ipynb",
   "output_path": "__notebook__.ipynb",
   "parameters": {},
   "start_time": "2024-05-31T09:35:47.531989",
   "version": "2.4.0"
  }
 },
 "nbformat": 4,
 "nbformat_minor": 5
}
