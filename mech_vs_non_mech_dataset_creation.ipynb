{
 "cells": [
  {
   "cell_type": "code",
   "execution_count": 1,
   "id": "e4ac613a",
   "metadata": {
    "_cell_guid": "b1076dfc-b9ad-4769-8c92-a6c4dae69d19",
    "_uuid": "8f2839f25d086af736a60e9eeb907d3b93b6e0e5",
    "execution": {
     "iopub.execute_input": "2024-02-19T04:29:29.761519Z",
     "iopub.status.busy": "2024-02-19T04:29:29.760702Z",
     "iopub.status.idle": "2024-02-19T04:29:30.615113Z",
     "shell.execute_reply": "2024-02-19T04:29:30.614139Z"
    },
    "papermill": {
     "duration": 0.865828,
     "end_time": "2024-02-19T04:29:30.617710",
     "exception": false,
     "start_time": "2024-02-19T04:29:29.751882",
     "status": "completed"
    },
    "tags": []
   },
   "outputs": [],
   "source": [
    "# Import Libraries needed\n",
    "import librosa\n",
    "import numpy as np\n",
    "import pandas as pd\n",
    "from tqdm import tqdm\n",
    "from os import listdir\n",
    "from os.path import join\n",
    "from datetime import datetime, timedelta"
   ]
  },
  {
   "cell_type": "code",
   "execution_count": 2,
   "id": "0ed557ea",
   "metadata": {
    "execution": {
     "iopub.execute_input": "2024-02-19T04:29:30.634538Z",
     "iopub.status.busy": "2024-02-19T04:29:30.634013Z",
     "iopub.status.idle": "2024-02-19T04:29:30.639275Z",
     "shell.execute_reply": "2024-02-19T04:29:30.638136Z"
    },
    "papermill": {
     "duration": 0.015368,
     "end_time": "2024-02-19T04:29:30.641578",
     "exception": false,
     "start_time": "2024-02-19T04:29:30.626210",
     "status": "completed"
    },
    "tags": []
   },
   "outputs": [],
   "source": [
    "# Set file paths for mechanical readings csv and wav file location\n",
    "DATA_PATH = \"/kaggle/input/rain-data-davis-sample\"\n",
    "MECH_FILE_PATH = \"/kaggle/input/rain-data-davis-sample/rain_data_davis_dummy/logs/davis_label.csv\"\n",
    "NON_MECH_PATH = \"/kaggle/input/rain-data-davis-sample/rain_data_davis_dummy/data\"\n",
    "Fs = 8000\n",
    "MAX_LEN = 80000"
   ]
  },
  {
   "cell_type": "code",
   "execution_count": 3,
   "id": "eabba028",
   "metadata": {
    "execution": {
     "iopub.execute_input": "2024-02-19T04:29:30.655678Z",
     "iopub.status.busy": "2024-02-19T04:29:30.655268Z",
     "iopub.status.idle": "2024-02-19T04:29:30.694422Z",
     "shell.execute_reply": "2024-02-19T04:29:30.693424Z"
    },
    "papermill": {
     "duration": 0.049321,
     "end_time": "2024-02-19T04:29:30.696970",
     "exception": false,
     "start_time": "2024-02-19T04:29:30.647649",
     "status": "completed"
    },
    "tags": []
   },
   "outputs": [],
   "source": [
    "# Read mechanical raingauge readings as csv using pandas\n",
    "mech_data = pd.read_csv(join(DATA_PATH, MECH_FILE_PATH))\n",
    "\n",
    "# Convert time column to pandas time datatype\n",
    "mech_data[\"time\"]= pd.to_datetime(mech_data[\"time\"])\n",
    "\n",
    "# Get list of wav files and sort them in ascending order\n",
    "wave_files = sorted(listdir(NON_MECH_PATH))\n",
    "\n",
    "# Get total count of wav files available\n",
    "N = len(wave_files)"
   ]
  },
  {
   "cell_type": "code",
   "execution_count": 4,
   "id": "62abb931",
   "metadata": {
    "execution": {
     "iopub.execute_input": "2024-02-19T04:29:30.712009Z",
     "iopub.status.busy": "2024-02-19T04:29:30.711063Z",
     "iopub.status.idle": "2024-02-19T04:29:30.718315Z",
     "shell.execute_reply": "2024-02-19T04:29:30.717352Z"
    },
    "papermill": {
     "duration": 0.01714,
     "end_time": "2024-02-19T04:29:30.720673",
     "exception": false,
     "start_time": "2024-02-19T04:29:30.703533",
     "status": "completed"
    },
    "tags": []
   },
   "outputs": [],
   "source": [
    "# Function to parse date and time components from wav filenames\n",
    "def filename_parser(filename):\n",
    "    year, month, day, hour, minute, second, _ = map(int, filename.split(\".\")[0].split(\"_\"))\n",
    "    return datetime(year, month, day, hour, minute, second)\n",
    "\n",
    "# Get the fist starting time available for wav files\n",
    "start_time = filename_parser(wave_files[0])\n",
    "\n",
    "# Get the last time available for wav files\n",
    "end_time = filename_parser(wave_files[-1])"
   ]
  },
  {
   "cell_type": "code",
   "execution_count": 5,
   "id": "1234a732",
   "metadata": {
    "execution": {
     "iopub.execute_input": "2024-02-19T04:29:30.735559Z",
     "iopub.status.busy": "2024-02-19T04:29:30.734800Z",
     "iopub.status.idle": "2024-02-19T04:29:30.747784Z",
     "shell.execute_reply": "2024-02-19T04:29:30.747008Z"
    },
    "papermill": {
     "duration": 0.022988,
     "end_time": "2024-02-19T04:29:30.750099",
     "exception": false,
     "start_time": "2024-02-19T04:29:30.727111",
     "status": "completed"
    },
    "tags": []
   },
   "outputs": [],
   "source": [
    "# Find overlapping time instances where mechanical readings and wav files are available\n",
    "row_overlap = (mech_data[\"time\"]>start_time)&(mech_data[\"time\"]<end_time)\n",
    "mech_data = mech_data[row_overlap]"
   ]
  },
  {
   "cell_type": "code",
   "execution_count": 6,
   "id": "31e00975",
   "metadata": {
    "execution": {
     "iopub.execute_input": "2024-02-19T04:29:30.764836Z",
     "iopub.status.busy": "2024-02-19T04:29:30.764157Z",
     "iopub.status.idle": "2024-02-19T04:29:30.785550Z",
     "shell.execute_reply": "2024-02-19T04:29:30.784437Z"
    },
    "papermill": {
     "duration": 0.03187,
     "end_time": "2024-02-19T04:29:30.788245",
     "exception": false,
     "start_time": "2024-02-19T04:29:30.756375",
     "status": "completed"
    },
    "tags": []
   },
   "outputs": [
    {
     "data": {
      "text/html": [
       "<div>\n",
       "<style scoped>\n",
       "    .dataframe tbody tr th:only-of-type {\n",
       "        vertical-align: middle;\n",
       "    }\n",
       "\n",
       "    .dataframe tbody tr th {\n",
       "        vertical-align: top;\n",
       "    }\n",
       "\n",
       "    .dataframe thead th {\n",
       "        text-align: right;\n",
       "    }\n",
       "</style>\n",
       "<table border=\"1\" class=\"dataframe\">\n",
       "  <thead>\n",
       "    <tr style=\"text-align: right;\">\n",
       "      <th></th>\n",
       "      <th>time</th>\n",
       "      <th>rainfall</th>\n",
       "    </tr>\n",
       "  </thead>\n",
       "  <tbody>\n",
       "    <tr>\n",
       "      <th>0</th>\n",
       "      <td>2024-02-15 16:26:33.594668</td>\n",
       "      <td>0.0</td>\n",
       "    </tr>\n",
       "    <tr>\n",
       "      <th>1</th>\n",
       "      <td>2024-02-15 16:26:38.123456</td>\n",
       "      <td>0.2</td>\n",
       "    </tr>\n",
       "    <tr>\n",
       "      <th>2</th>\n",
       "      <td>2024-02-15 16:26:43.596175</td>\n",
       "      <td>0.0</td>\n",
       "    </tr>\n",
       "    <tr>\n",
       "      <th>3</th>\n",
       "      <td>2024-02-15 16:26:53.588678</td>\n",
       "      <td>0.0</td>\n",
       "    </tr>\n",
       "    <tr>\n",
       "      <th>4</th>\n",
       "      <td>2024-02-15 16:27:03.588303</td>\n",
       "      <td>0.0</td>\n",
       "    </tr>\n",
       "    <tr>\n",
       "      <th>...</th>\n",
       "      <td>...</td>\n",
       "      <td>...</td>\n",
       "    </tr>\n",
       "    <tr>\n",
       "      <th>144</th>\n",
       "      <td>2024-02-15 16:50:13.593610</td>\n",
       "      <td>0.0</td>\n",
       "    </tr>\n",
       "    <tr>\n",
       "      <th>145</th>\n",
       "      <td>2024-02-15 16:50:23.596397</td>\n",
       "      <td>0.0</td>\n",
       "    </tr>\n",
       "    <tr>\n",
       "      <th>146</th>\n",
       "      <td>2024-02-15 16:50:33.595699</td>\n",
       "      <td>0.0</td>\n",
       "    </tr>\n",
       "    <tr>\n",
       "      <th>147</th>\n",
       "      <td>2024-02-15 16:50:43.588419</td>\n",
       "      <td>0.0</td>\n",
       "    </tr>\n",
       "    <tr>\n",
       "      <th>148</th>\n",
       "      <td>2024-02-15 16:50:53.593295</td>\n",
       "      <td>0.0</td>\n",
       "    </tr>\n",
       "  </tbody>\n",
       "</table>\n",
       "<p>149 rows × 2 columns</p>\n",
       "</div>"
      ],
      "text/plain": [
       "                          time  rainfall\n",
       "0   2024-02-15 16:26:33.594668       0.0\n",
       "1   2024-02-15 16:26:38.123456       0.2\n",
       "2   2024-02-15 16:26:43.596175       0.0\n",
       "3   2024-02-15 16:26:53.588678       0.0\n",
       "4   2024-02-15 16:27:03.588303       0.0\n",
       "..                         ...       ...\n",
       "144 2024-02-15 16:50:13.593610       0.0\n",
       "145 2024-02-15 16:50:23.596397       0.0\n",
       "146 2024-02-15 16:50:33.595699       0.0\n",
       "147 2024-02-15 16:50:43.588419       0.0\n",
       "148 2024-02-15 16:50:53.593295       0.0\n",
       "\n",
       "[149 rows x 2 columns]"
      ]
     },
     "execution_count": 6,
     "metadata": {},
     "output_type": "execute_result"
    }
   ],
   "source": [
    "mech_data"
   ]
  },
  {
   "cell_type": "code",
   "execution_count": 7,
   "id": "51a016de",
   "metadata": {
    "execution": {
     "iopub.execute_input": "2024-02-19T04:29:30.803610Z",
     "iopub.status.busy": "2024-02-19T04:29:30.802759Z",
     "iopub.status.idle": "2024-02-19T04:29:30.819148Z",
     "shell.execute_reply": "2024-02-19T04:29:30.817951Z"
    },
    "papermill": {
     "duration": 0.026745,
     "end_time": "2024-02-19T04:29:30.821558",
     "exception": false,
     "start_time": "2024-02-19T04:29:30.794813",
     "status": "completed"
    },
    "tags": []
   },
   "outputs": [
    {
     "data": {
      "text/plain": [
       "Index(['2024-02-15'], dtype='object', name='YMD')"
      ]
     },
     "execution_count": 7,
     "metadata": {},
     "output_type": "execute_result"
    }
   ],
   "source": [
    "# To find the number of unique days where we have recording available\n",
    "mech_data[\"time\"] = mech_data[\"time\"].astype('str')\n",
    "mech_data[[\"YMD\", \"HMS\"]] = mech_data[\"time\"].str.split(\" \",expand=True)\n",
    "mech_data[\"YMD\"].value_counts().keys()"
   ]
  },
  {
   "cell_type": "code",
   "execution_count": 8,
   "id": "f4285663",
   "metadata": {
    "execution": {
     "iopub.execute_input": "2024-02-19T04:29:30.837635Z",
     "iopub.status.busy": "2024-02-19T04:29:30.836951Z",
     "iopub.status.idle": "2024-02-19T04:29:30.846099Z",
     "shell.execute_reply": "2024-02-19T04:29:30.845139Z"
    },
    "papermill": {
     "duration": 0.020126,
     "end_time": "2024-02-19T04:29:30.848521",
     "exception": false,
     "start_time": "2024-02-19T04:29:30.828395",
     "status": "completed"
    },
    "tags": []
   },
   "outputs": [],
   "source": [
    "mech_data[\"time\"]= pd.to_datetime(mech_data[\"time\"])\n",
    "mech_data = mech_data[[\"time\", \"rainfall\"]]"
   ]
  },
  {
   "cell_type": "code",
   "execution_count": 9,
   "id": "286231b1",
   "metadata": {
    "execution": {
     "iopub.execute_input": "2024-02-19T04:29:30.864351Z",
     "iopub.status.busy": "2024-02-19T04:29:30.863916Z",
     "iopub.status.idle": "2024-02-19T04:29:30.869408Z",
     "shell.execute_reply": "2024-02-19T04:29:30.868439Z"
    },
    "papermill": {
     "duration": 0.016296,
     "end_time": "2024-02-19T04:29:30.871686",
     "exception": false,
     "start_time": "2024-02-19T04:29:30.855390",
     "status": "completed"
    },
    "tags": []
   },
   "outputs": [],
   "source": [
    "mech_data = mech_data[mech_data[\"rainfall\"]!=0.0]"
   ]
  },
  {
   "cell_type": "code",
   "execution_count": 10,
   "id": "5749c8a9",
   "metadata": {
    "execution": {
     "iopub.execute_input": "2024-02-19T04:29:30.887357Z",
     "iopub.status.busy": "2024-02-19T04:29:30.886686Z",
     "iopub.status.idle": "2024-02-19T04:29:30.891756Z",
     "shell.execute_reply": "2024-02-19T04:29:30.890984Z"
    },
    "papermill": {
     "duration": 0.015695,
     "end_time": "2024-02-19T04:29:30.894069",
     "exception": false,
     "start_time": "2024-02-19T04:29:30.878374",
     "status": "completed"
    },
    "tags": []
   },
   "outputs": [],
   "source": [
    "# Function to load a wav file using librosa and get its sampling rate and duration\n",
    "def load_wav(file_path, Fs=8000):\n",
    "    audio, Fs = librosa.load(file_path, sr=Fs)\n",
    "    duration = librosa.get_duration(y=audio, sr=Fs)\n",
    "    return audio, Fs, duration"
   ]
  },
  {
   "cell_type": "code",
   "execution_count": 11,
   "id": "1e7a06c6",
   "metadata": {
    "execution": {
     "iopub.execute_input": "2024-02-19T04:29:30.909563Z",
     "iopub.status.busy": "2024-02-19T04:29:30.908919Z",
     "iopub.status.idle": "2024-02-19T04:29:30.918435Z",
     "shell.execute_reply": "2024-02-19T04:29:30.917419Z"
    },
    "papermill": {
     "duration": 0.019631,
     "end_time": "2024-02-19T04:29:30.920551",
     "exception": false,
     "start_time": "2024-02-19T04:29:30.900920",
     "status": "completed"
    },
    "tags": []
   },
   "outputs": [
    {
     "data": {
      "text/html": [
       "<div>\n",
       "<style scoped>\n",
       "    .dataframe tbody tr th:only-of-type {\n",
       "        vertical-align: middle;\n",
       "    }\n",
       "\n",
       "    .dataframe tbody tr th {\n",
       "        vertical-align: top;\n",
       "    }\n",
       "\n",
       "    .dataframe thead th {\n",
       "        text-align: right;\n",
       "    }\n",
       "</style>\n",
       "<table border=\"1\" class=\"dataframe\">\n",
       "  <thead>\n",
       "    <tr style=\"text-align: right;\">\n",
       "      <th></th>\n",
       "      <th>time</th>\n",
       "      <th>rainfall</th>\n",
       "    </tr>\n",
       "  </thead>\n",
       "  <tbody>\n",
       "    <tr>\n",
       "      <th>1</th>\n",
       "      <td>2024-02-15 16:26:38.123456</td>\n",
       "      <td>0.2</td>\n",
       "    </tr>\n",
       "    <tr>\n",
       "      <th>10</th>\n",
       "      <td>2024-02-15 16:28:03.589238</td>\n",
       "      <td>0.4</td>\n",
       "    </tr>\n",
       "    <tr>\n",
       "      <th>55</th>\n",
       "      <td>2024-02-15 16:35:33.595626</td>\n",
       "      <td>0.6</td>\n",
       "    </tr>\n",
       "  </tbody>\n",
       "</table>\n",
       "</div>"
      ],
      "text/plain": [
       "                         time  rainfall\n",
       "1  2024-02-15 16:26:38.123456       0.2\n",
       "10 2024-02-15 16:28:03.589238       0.4\n",
       "55 2024-02-15 16:35:33.595626       0.6"
      ]
     },
     "execution_count": 11,
     "metadata": {},
     "output_type": "execute_result"
    }
   ],
   "source": [
    "mech_data"
   ]
  },
  {
   "cell_type": "code",
   "execution_count": 12,
   "id": "7b5c6a58",
   "metadata": {
    "execution": {
     "iopub.execute_input": "2024-02-19T04:29:30.936368Z",
     "iopub.status.busy": "2024-02-19T04:29:30.935697Z",
     "iopub.status.idle": "2024-02-19T04:29:30.953596Z",
     "shell.execute_reply": "2024-02-19T04:29:30.952461Z"
    },
    "papermill": {
     "duration": 0.029036,
     "end_time": "2024-02-19T04:29:30.956348",
     "exception": false,
     "start_time": "2024-02-19T04:29:30.927312",
     "status": "completed"
    },
    "tags": []
   },
   "outputs": [],
   "source": [
    "def get_fname_time(file_name):\n",
    "    file_name_short = file_name.split(\"_\")[:-1]\n",
    "    year, month, day, hour, minute, second = map(int, file_name_short)\n",
    "    fname_time = datetime(year, month, day, hour, minute, second)\n",
    "    return fname_time\n",
    "\n",
    "def ftime_to_fname(ftime):\n",
    "    ftime_prev = ftime.strftime('%Y_%m_%d_%H_%M_%S')\n",
    "    return ftime_prev\n",
    "\n",
    "def get_previous_file(file_name, wave_files):\n",
    "    fname_time = get_fname_time(file_name)\n",
    "    fname_time_prev = fname_time-timedelta(seconds=10)\n",
    "    prev_file_name = ftime_to_fname(fname_time_prev)\n",
    "    prev_file_to_read = None\n",
    "    for wave_file in wave_files:\n",
    "        wave_file_short = \"_\".join(wave_file.split(\"_\")[:-1])\n",
    "        if wave_file_short == prev_file_name:\n",
    "            prev_file_to_read = wave_file\n",
    "            break\n",
    "        else:\n",
    "            continue\n",
    "    return prev_file_to_read\n",
    "\n",
    "def evaluate_duration(duration):\n",
    "    sec_difference = duration.total_seconds()\n",
    "    if sec_difference<0:\n",
    "        selection_flag = False\n",
    "        partial = False\n",
    "        current_file_init_secs = 0\n",
    "        prev_file_end_secs = 0\n",
    "    elif sec_difference==0:\n",
    "        selection_flag = True\n",
    "        partial = False\n",
    "        current_file_init_secs = 10\n",
    "        prev_file_end_secs = 0\n",
    "    elif sec_difference>9:\n",
    "        selection_flag = False\n",
    "        partial = False\n",
    "        current_file_init_secs = 0\n",
    "        prev_file_end_secs = 0\n",
    "    elif sec_difference<=9:\n",
    "        selection_flag = True\n",
    "        partial = True\n",
    "        current_file_init_secs = 10-sec_difference\n",
    "        prev_file_end_secs  = sec_difference\n",
    "    return selection_flag, partial, current_file_init_secs, prev_file_end_secs\n",
    "\n",
    "def read_and_merge_files(file_path_1, file_path_2, current_file_init_secs, prev_file_end_secs):\n",
    "    audio_1, _, _ = load_wav(file_path_1)\n",
    "    audio_2, _, _ = load_wav(file_path_2)\n",
    "    audio_1 = audio_1[:int(current_file_init_secs*8000)]\n",
    "    audio_2 = audio_2[int((10-prev_file_end_secs)*8000):]\n",
    "    audio = np.concatenate((audio_1, audio_2), axis=None)\n",
    "    return audio\n",
    "\n",
    "def file_flagger(file_name, check_point, rainfall):\n",
    "    check_point = check_point.replace(microsecond=0)\n",
    "    fname_time = get_fname_time(file_name).replace(microsecond=0)\n",
    "    fname_end_time = fname_time+timedelta(seconds=10)\n",
    "    duration = fname_end_time-check_point\n",
    "    selection_flag, partial, current_file_init_secs, prev_file_end_secs = evaluate_duration(duration)\n",
    "    if selection_flag and not partial:\n",
    "        file_path = join(NON_MECH_PATH, file_name)\n",
    "        audio, Fs, duration = load_wav(file_path)\n",
    "        print(\"Reading the full file: \", file_name)\n",
    "    elif selection_flag and partial:\n",
    "        prev_file_to_read = get_previous_file(file_name, wave_files)\n",
    "        if prev_file_to_read and rainfall:\n",
    "            file_path_1 = join(NON_MECH_PATH, file_name)\n",
    "            file_path_2 = join(NON_MECH_PATH, prev_file_to_read)\n",
    "            print(\"Reading initial of {} and end of {}\".format(file_name, prev_file_to_read))\n",
    "            audio = read_and_merge_files(file_path_1, file_path_2, current_file_init_secs, prev_file_end_secs)\n",
    "        else:\n",
    "            audio = 0\n",
    "    elif not selection_flag:\n",
    "        audio = 0\n",
    "    return audio, selection_flag"
   ]
  },
  {
   "cell_type": "code",
   "execution_count": 13,
   "id": "6ebb02ad",
   "metadata": {
    "execution": {
     "iopub.execute_input": "2024-02-19T04:29:30.972500Z",
     "iopub.status.busy": "2024-02-19T04:29:30.972031Z",
     "iopub.status.idle": "2024-02-19T04:29:44.235985Z",
     "shell.execute_reply": "2024-02-19T04:29:44.235137Z"
    },
    "papermill": {
     "duration": 13.274909,
     "end_time": "2024-02-19T04:29:44.238413",
     "exception": false,
     "start_time": "2024-02-19T04:29:30.963504",
     "status": "completed"
    },
    "tags": []
   },
   "outputs": [
    {
     "name": "stdout",
     "output_type": "stream",
     "text": [
      "Reading the full file:  2024_02_15_16_26_28_580877.wav\n",
      "Reading initial of 2024_02_15_16_27_58_668728.wav and end of 2024_02_15_16_27_48_659121.wav\n",
      "Reading initial of 2024_02_15_16_35_25_201541.wav and end of 2024_02_15_16_35_15_113581.wav\n"
     ]
    }
   ],
   "source": [
    "data_basic = pd.DataFrame()\n",
    "target = np.array([])\n",
    "for idx, row in mech_data.iterrows():\n",
    "    check_point = row[\"time\"]\n",
    "    rainfall = row[\"rainfall\"]\n",
    "    for wave_file in wave_files:\n",
    "        audio_sample, selection_flag = file_flagger(wave_file, check_point, rainfall)\n",
    "        if selection_flag and rainfall:\n",
    "            with open(\"audio_{}.npy\".format(idx), \"wb\") as f:\n",
    "                np.save(f, audio_sample)\n",
    "            data_row = {\"checkpoint\": check_point,\n",
    "                        \"fname\": \"audio_{}.npy\".format(idx), \n",
    "                        \"target\": row[\"rainfall\"]}\n",
    "            data_basic = pd.concat([data_basic, pd.DataFrame([data_row])], ignore_index=True)\n",
    "        else:\n",
    "            continue"
   ]
  },
  {
   "cell_type": "code",
   "execution_count": 14,
   "id": "6ae40a3c",
   "metadata": {
    "execution": {
     "iopub.execute_input": "2024-02-19T04:29:44.254558Z",
     "iopub.status.busy": "2024-02-19T04:29:44.253921Z",
     "iopub.status.idle": "2024-02-19T04:29:44.264477Z",
     "shell.execute_reply": "2024-02-19T04:29:44.263581Z"
    },
    "papermill": {
     "duration": 0.021002,
     "end_time": "2024-02-19T04:29:44.266516",
     "exception": false,
     "start_time": "2024-02-19T04:29:44.245514",
     "status": "completed"
    },
    "tags": []
   },
   "outputs": [
    {
     "data": {
      "text/html": [
       "<div>\n",
       "<style scoped>\n",
       "    .dataframe tbody tr th:only-of-type {\n",
       "        vertical-align: middle;\n",
       "    }\n",
       "\n",
       "    .dataframe tbody tr th {\n",
       "        vertical-align: top;\n",
       "    }\n",
       "\n",
       "    .dataframe thead th {\n",
       "        text-align: right;\n",
       "    }\n",
       "</style>\n",
       "<table border=\"1\" class=\"dataframe\">\n",
       "  <thead>\n",
       "    <tr style=\"text-align: right;\">\n",
       "      <th></th>\n",
       "      <th>checkpoint</th>\n",
       "      <th>fname</th>\n",
       "      <th>target</th>\n",
       "    </tr>\n",
       "  </thead>\n",
       "  <tbody>\n",
       "    <tr>\n",
       "      <th>0</th>\n",
       "      <td>2024-02-15 16:26:38.123456</td>\n",
       "      <td>audio_1.npy</td>\n",
       "      <td>0.2</td>\n",
       "    </tr>\n",
       "    <tr>\n",
       "      <th>1</th>\n",
       "      <td>2024-02-15 16:28:03.589238</td>\n",
       "      <td>audio_10.npy</td>\n",
       "      <td>0.4</td>\n",
       "    </tr>\n",
       "    <tr>\n",
       "      <th>2</th>\n",
       "      <td>2024-02-15 16:35:33.595626</td>\n",
       "      <td>audio_55.npy</td>\n",
       "      <td>0.6</td>\n",
       "    </tr>\n",
       "  </tbody>\n",
       "</table>\n",
       "</div>"
      ],
      "text/plain": [
       "                  checkpoint         fname  target\n",
       "0 2024-02-15 16:26:38.123456   audio_1.npy     0.2\n",
       "1 2024-02-15 16:28:03.589238  audio_10.npy     0.4\n",
       "2 2024-02-15 16:35:33.595626  audio_55.npy     0.6"
      ]
     },
     "execution_count": 14,
     "metadata": {},
     "output_type": "execute_result"
    }
   ],
   "source": [
    "data_basic"
   ]
  },
  {
   "cell_type": "code",
   "execution_count": 15,
   "id": "8d20fda7",
   "metadata": {
    "execution": {
     "iopub.execute_input": "2024-02-19T04:29:44.282910Z",
     "iopub.status.busy": "2024-02-19T04:29:44.281881Z",
     "iopub.status.idle": "2024-02-19T04:29:44.290537Z",
     "shell.execute_reply": "2024-02-19T04:29:44.289759Z"
    },
    "papermill": {
     "duration": 0.018954,
     "end_time": "2024-02-19T04:29:44.292647",
     "exception": false,
     "start_time": "2024-02-19T04:29:44.273693",
     "status": "completed"
    },
    "tags": []
   },
   "outputs": [],
   "source": [
    "data_basic.to_csv(\"data_basic.csv\")\n",
    "mech_data.to_csv(\"mech_data.csv\")"
   ]
  },
  {
   "cell_type": "code",
   "execution_count": 16,
   "id": "2174e2ae",
   "metadata": {
    "execution": {
     "iopub.execute_input": "2024-02-19T04:29:44.308910Z",
     "iopub.status.busy": "2024-02-19T04:29:44.308193Z",
     "iopub.status.idle": "2024-02-19T04:29:44.317464Z",
     "shell.execute_reply": "2024-02-19T04:29:44.316731Z"
    },
    "papermill": {
     "duration": 0.019491,
     "end_time": "2024-02-19T04:29:44.319373",
     "exception": false,
     "start_time": "2024-02-19T04:29:44.299882",
     "status": "completed"
    },
    "tags": []
   },
   "outputs": [
    {
     "data": {
      "text/html": [
       "<div>\n",
       "<style scoped>\n",
       "    .dataframe tbody tr th:only-of-type {\n",
       "        vertical-align: middle;\n",
       "    }\n",
       "\n",
       "    .dataframe tbody tr th {\n",
       "        vertical-align: top;\n",
       "    }\n",
       "\n",
       "    .dataframe thead th {\n",
       "        text-align: right;\n",
       "    }\n",
       "</style>\n",
       "<table border=\"1\" class=\"dataframe\">\n",
       "  <thead>\n",
       "    <tr style=\"text-align: right;\">\n",
       "      <th></th>\n",
       "      <th>time</th>\n",
       "      <th>rainfall</th>\n",
       "    </tr>\n",
       "  </thead>\n",
       "  <tbody>\n",
       "    <tr>\n",
       "      <th>1</th>\n",
       "      <td>2024-02-15 16:26:38.123456</td>\n",
       "      <td>0.2</td>\n",
       "    </tr>\n",
       "    <tr>\n",
       "      <th>10</th>\n",
       "      <td>2024-02-15 16:28:03.589238</td>\n",
       "      <td>0.4</td>\n",
       "    </tr>\n",
       "    <tr>\n",
       "      <th>55</th>\n",
       "      <td>2024-02-15 16:35:33.595626</td>\n",
       "      <td>0.6</td>\n",
       "    </tr>\n",
       "  </tbody>\n",
       "</table>\n",
       "</div>"
      ],
      "text/plain": [
       "                         time  rainfall\n",
       "1  2024-02-15 16:26:38.123456       0.2\n",
       "10 2024-02-15 16:28:03.589238       0.4\n",
       "55 2024-02-15 16:35:33.595626       0.6"
      ]
     },
     "execution_count": 16,
     "metadata": {},
     "output_type": "execute_result"
    }
   ],
   "source": [
    "mech_data"
   ]
  },
  {
   "cell_type": "code",
   "execution_count": null,
   "id": "2fd02e1a",
   "metadata": {
    "papermill": {
     "duration": 0.006744,
     "end_time": "2024-02-19T04:29:44.333476",
     "exception": false,
     "start_time": "2024-02-19T04:29:44.326732",
     "status": "completed"
    },
    "tags": []
   },
   "outputs": [],
   "source": []
  }
 ],
 "metadata": {
  "kaggle": {
   "accelerator": "none",
   "dataSources": [
    {
     "datasetId": 4445828,
     "isSourceIdPinned": true,
     "sourceId": 7641686,
     "sourceType": "datasetVersion"
    }
   ],
   "dockerImageVersionId": 30587,
   "isGpuEnabled": false,
   "isInternetEnabled": true,
   "language": "python",
   "sourceType": "notebook"
  },
  "kernelspec": {
   "display_name": "Python 3",
   "language": "python",
   "name": "python3"
  },
  "language_info": {
   "codemirror_mode": {
    "name": "ipython",
    "version": 3
   },
   "file_extension": ".py",
   "mimetype": "text/x-python",
   "name": "python",
   "nbconvert_exporter": "python",
   "pygments_lexer": "ipython3",
   "version": "3.10.12"
  },
  "papermill": {
   "default_parameters": {},
   "duration": 19.623556,
   "end_time": "2024-02-19T04:29:45.362274",
   "environment_variables": {},
   "exception": null,
   "input_path": "__notebook__.ipynb",
   "output_path": "__notebook__.ipynb",
   "parameters": {},
   "start_time": "2024-02-19T04:29:25.738718",
   "version": "2.4.0"
  }
 },
 "nbformat": 4,
 "nbformat_minor": 5
}
