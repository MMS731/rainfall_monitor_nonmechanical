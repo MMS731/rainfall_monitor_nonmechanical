{
 "cells": [
  {
   "cell_type": "code",
   "execution_count": 1,
   "id": "c2082e55",
   "metadata": {
    "_cell_guid": "b1076dfc-b9ad-4769-8c92-a6c4dae69d19",
    "_uuid": "8f2839f25d086af736a60e9eeb907d3b93b6e0e5",
    "execution": {
     "iopub.execute_input": "2024-05-31T10:44:36.210347Z",
     "iopub.status.busy": "2024-05-31T10:44:36.209560Z",
     "iopub.status.idle": "2024-05-31T10:44:48.733949Z",
     "shell.execute_reply": "2024-05-31T10:44:48.733124Z"
    },
    "papermill": {
     "duration": 12.537799,
     "end_time": "2024-05-31T10:44:48.736378",
     "exception": false,
     "start_time": "2024-05-31T10:44:36.198579",
     "status": "completed"
    },
    "tags": []
   },
   "outputs": [
    {
     "name": "stderr",
     "output_type": "stream",
     "text": [
      "/opt/conda/lib/python3.10/site-packages/scipy/__init__.py:146: UserWarning: A NumPy version >=1.16.5 and <1.23.0 is required for this version of SciPy (detected version 1.24.3\n",
      "  warnings.warn(f\"A NumPy version >={np_minversion} and <{np_maxversion}\"\n"
     ]
    }
   ],
   "source": [
    "import pickle\n",
    "import librosa\n",
    "import numpy as np\n",
    "import pandas as pd\n",
    "from tqdm import tqdm\n",
    "from os import listdir\n",
    "from os.path import join\n",
    "from datetime import datetime\n",
    "from keras.models import Model\n",
    "import matplotlib.pyplot as plt\n",
    "from keras.utils import Sequence\n",
    "from keras.utils import plot_model\n",
    "from keras.models import Sequential\n",
    "from sklearn.metrics import r2_score\n",
    "from tensorflow.keras.regularizers import l2\n",
    "from tensorflow.keras.optimizers import Adam\n",
    "from keras.layers import Conv2D, MaxPooling2D\n",
    "from keras.layers import Dense, LSTM, Reshape, Input\n",
    "from sklearn.model_selection import train_test_split\n",
    "from tensorflow.keras.callbacks import ModelCheckpoint"
   ]
  },
  {
   "cell_type": "code",
   "execution_count": 2,
   "id": "e98253ac",
   "metadata": {
    "execution": {
     "iopub.execute_input": "2024-05-31T10:44:48.756657Z",
     "iopub.status.busy": "2024-05-31T10:44:48.756164Z",
     "iopub.status.idle": "2024-05-31T10:44:48.761095Z",
     "shell.execute_reply": "2024-05-31T10:44:48.760300Z"
    },
    "papermill": {
     "duration": 0.016853,
     "end_time": "2024-05-31T10:44:48.762990",
     "exception": false,
     "start_time": "2024-05-31T10:44:48.746137",
     "status": "completed"
    },
    "tags": []
   },
   "outputs": [],
   "source": [
    "DATA_PATH = \"/kaggle/input/rain-seq-master-precise-stiched\"\n",
    "AUDIO_PATH = \"/kaggle/input/rain-seq-master-precise-stiched/data\"\n",
    "BASIC_DATA_PATH = join(DATA_PATH, \"data_basic.csv\")\n",
    "Fs = 8000\n",
    "model_name=\"seq_stft.hdf5\"\n",
    "SEQ_LEN = 1368000 # 171 seconds @ Fs 8k samples/sec\n",
    "LEARNING_RATE = 0.001"
   ]
  },
  {
   "cell_type": "code",
   "execution_count": 3,
   "id": "c2c3dd2d",
   "metadata": {
    "execution": {
     "iopub.execute_input": "2024-05-31T10:44:48.782193Z",
     "iopub.status.busy": "2024-05-31T10:44:48.781918Z",
     "iopub.status.idle": "2024-05-31T10:44:48.786761Z",
     "shell.execute_reply": "2024-05-31T10:44:48.785964Z"
    },
    "papermill": {
     "duration": 0.016538,
     "end_time": "2024-05-31T10:44:48.788621",
     "exception": false,
     "start_time": "2024-05-31T10:44:48.772083",
     "status": "completed"
    },
    "tags": []
   },
   "outputs": [],
   "source": [
    "def find_zero_point_percentage(df):\n",
    "    df_non_zero = df[df[\"target\"]!=0]\n",
    "    df_zero = df[df[\"target\"]==0]\n",
    "    T = df.shape[0]\n",
    "    non_zeros = df_non_zero.shape[0]\n",
    "    zeros = df_zero.shape[0]\n",
    "    print(\"Percentage of Zero datapoints: \",zeros*100/T, \"%\")"
   ]
  },
  {
   "cell_type": "code",
   "execution_count": 4,
   "id": "f400cd14",
   "metadata": {
    "execution": {
     "iopub.execute_input": "2024-05-31T10:44:48.807578Z",
     "iopub.status.busy": "2024-05-31T10:44:48.807344Z",
     "iopub.status.idle": "2024-05-31T10:44:48.839834Z",
     "shell.execute_reply": "2024-05-31T10:44:48.839110Z"
    },
    "papermill": {
     "duration": 0.044057,
     "end_time": "2024-05-31T10:44:48.841692",
     "exception": false,
     "start_time": "2024-05-31T10:44:48.797635",
     "status": "completed"
    },
    "tags": []
   },
   "outputs": [],
   "source": [
    "basic_data = pd.read_csv(BASIC_DATA_PATH)\n",
    "basic_data = basic_data[[\"checkpoint\",\"fname\",\"target\"]]\n",
    "basic_data[\"checkpoint\"] = pd.to_datetime(basic_data[\"checkpoint\"])"
   ]
  },
  {
   "cell_type": "code",
   "execution_count": 5,
   "id": "87b55595",
   "metadata": {
    "execution": {
     "iopub.execute_input": "2024-05-31T10:44:48.861118Z",
     "iopub.status.busy": "2024-05-31T10:44:48.860866Z",
     "iopub.status.idle": "2024-05-31T10:44:48.866756Z",
     "shell.execute_reply": "2024-05-31T10:44:48.866105Z"
    },
    "papermill": {
     "duration": 0.017611,
     "end_time": "2024-05-31T10:44:48.868598",
     "exception": false,
     "start_time": "2024-05-31T10:44:48.850987",
     "status": "completed"
    },
    "tags": []
   },
   "outputs": [],
   "source": [
    "basic_data = basic_data.drop_duplicates(subset=[\"checkpoint\"])"
   ]
  },
  {
   "cell_type": "code",
   "execution_count": 6,
   "id": "1a1b7f36",
   "metadata": {
    "execution": {
     "iopub.execute_input": "2024-05-31T10:44:48.887723Z",
     "iopub.status.busy": "2024-05-31T10:44:48.887487Z",
     "iopub.status.idle": "2024-05-31T10:44:48.890914Z",
     "shell.execute_reply": "2024-05-31T10:44:48.890105Z"
    },
    "papermill": {
     "duration": 0.015075,
     "end_time": "2024-05-31T10:44:48.892728",
     "exception": false,
     "start_time": "2024-05-31T10:44:48.877653",
     "status": "completed"
    },
    "tags": []
   },
   "outputs": [],
   "source": [
    "# filter_date = pd.Timestamp(\"2024-01-01\")\n",
    "# basic_data = basic_data[basic_data[\"checkpoint\"] > filter_date]"
   ]
  },
  {
   "cell_type": "code",
   "execution_count": 7,
   "id": "d401449e",
   "metadata": {
    "execution": {
     "iopub.execute_input": "2024-05-31T10:44:48.912120Z",
     "iopub.status.busy": "2024-05-31T10:44:48.911578Z",
     "iopub.status.idle": "2024-05-31T10:44:48.926899Z",
     "shell.execute_reply": "2024-05-31T10:44:48.926134Z"
    },
    "papermill": {
     "duration": 0.026943,
     "end_time": "2024-05-31T10:44:48.928800",
     "exception": false,
     "start_time": "2024-05-31T10:44:48.901857",
     "status": "completed"
    },
    "tags": []
   },
   "outputs": [
    {
     "data": {
      "text/html": [
       "<div>\n",
       "<style scoped>\n",
       "    .dataframe tbody tr th:only-of-type {\n",
       "        vertical-align: middle;\n",
       "    }\n",
       "\n",
       "    .dataframe tbody tr th {\n",
       "        vertical-align: top;\n",
       "    }\n",
       "\n",
       "    .dataframe thead th {\n",
       "        text-align: right;\n",
       "    }\n",
       "</style>\n",
       "<table border=\"1\" class=\"dataframe\">\n",
       "  <thead>\n",
       "    <tr style=\"text-align: right;\">\n",
       "      <th></th>\n",
       "      <th>checkpoint</th>\n",
       "      <th>fname</th>\n",
       "      <th>target</th>\n",
       "    </tr>\n",
       "  </thead>\n",
       "  <tbody>\n",
       "    <tr>\n",
       "      <th>0</th>\n",
       "      <td>2023-11-22 18:27:26</td>\n",
       "      <td>audio_0.wav</td>\n",
       "      <td>0.8</td>\n",
       "    </tr>\n",
       "    <tr>\n",
       "      <th>1</th>\n",
       "      <td>2023-11-22 18:30:26</td>\n",
       "      <td>audio_1.wav</td>\n",
       "      <td>1.4</td>\n",
       "    </tr>\n",
       "    <tr>\n",
       "      <th>2</th>\n",
       "      <td>2023-11-22 18:33:26</td>\n",
       "      <td>audio_2.wav</td>\n",
       "      <td>1.0</td>\n",
       "    </tr>\n",
       "    <tr>\n",
       "      <th>3</th>\n",
       "      <td>2023-11-22 18:36:26</td>\n",
       "      <td>audio_3.wav</td>\n",
       "      <td>1.4</td>\n",
       "    </tr>\n",
       "    <tr>\n",
       "      <th>4</th>\n",
       "      <td>2023-11-22 18:39:26</td>\n",
       "      <td>audio_4.wav</td>\n",
       "      <td>0.2</td>\n",
       "    </tr>\n",
       "    <tr>\n",
       "      <th>...</th>\n",
       "      <td>...</td>\n",
       "      <td>...</td>\n",
       "      <td>...</td>\n",
       "    </tr>\n",
       "    <tr>\n",
       "      <th>1061</th>\n",
       "      <td>2024-05-29 16:20:56</td>\n",
       "      <td>audio_1339.wav</td>\n",
       "      <td>0.6</td>\n",
       "    </tr>\n",
       "    <tr>\n",
       "      <th>1062</th>\n",
       "      <td>2024-05-29 16:23:56</td>\n",
       "      <td>audio_1340.wav</td>\n",
       "      <td>0.6</td>\n",
       "    </tr>\n",
       "    <tr>\n",
       "      <th>1063</th>\n",
       "      <td>2024-05-29 16:26:56</td>\n",
       "      <td>audio_1341.wav</td>\n",
       "      <td>0.6</td>\n",
       "    </tr>\n",
       "    <tr>\n",
       "      <th>1064</th>\n",
       "      <td>2024-05-29 17:05:56</td>\n",
       "      <td>audio_1345.wav</td>\n",
       "      <td>0.6</td>\n",
       "    </tr>\n",
       "    <tr>\n",
       "      <th>1065</th>\n",
       "      <td>2024-05-29 17:08:56</td>\n",
       "      <td>audio_1346.wav</td>\n",
       "      <td>0.6</td>\n",
       "    </tr>\n",
       "  </tbody>\n",
       "</table>\n",
       "<p>1066 rows × 3 columns</p>\n",
       "</div>"
      ],
      "text/plain": [
       "              checkpoint           fname  target\n",
       "0    2023-11-22 18:27:26     audio_0.wav     0.8\n",
       "1    2023-11-22 18:30:26     audio_1.wav     1.4\n",
       "2    2023-11-22 18:33:26     audio_2.wav     1.0\n",
       "3    2023-11-22 18:36:26     audio_3.wav     1.4\n",
       "4    2023-11-22 18:39:26     audio_4.wav     0.2\n",
       "...                  ...             ...     ...\n",
       "1061 2024-05-29 16:20:56  audio_1339.wav     0.6\n",
       "1062 2024-05-29 16:23:56  audio_1340.wav     0.6\n",
       "1063 2024-05-29 16:26:56  audio_1341.wav     0.6\n",
       "1064 2024-05-29 17:05:56  audio_1345.wav     0.6\n",
       "1065 2024-05-29 17:08:56  audio_1346.wav     0.6\n",
       "\n",
       "[1066 rows x 3 columns]"
      ]
     },
     "execution_count": 7,
     "metadata": {},
     "output_type": "execute_result"
    }
   ],
   "source": [
    "basic_data"
   ]
  },
  {
   "cell_type": "code",
   "execution_count": 8,
   "id": "2512a931",
   "metadata": {
    "execution": {
     "iopub.execute_input": "2024-05-31T10:44:48.949311Z",
     "iopub.status.busy": "2024-05-31T10:44:48.948571Z",
     "iopub.status.idle": "2024-05-31T10:44:48.955984Z",
     "shell.execute_reply": "2024-05-31T10:44:48.955131Z"
    },
    "papermill": {
     "duration": 0.019312,
     "end_time": "2024-05-31T10:44:48.957902",
     "exception": false,
     "start_time": "2024-05-31T10:44:48.938590",
     "status": "completed"
    },
    "tags": []
   },
   "outputs": [
    {
     "name": "stdout",
     "output_type": "stream",
     "text": [
      "Percentage of Zero datapoints:  23.639774859287055 %\n"
     ]
    }
   ],
   "source": [
    "find_zero_point_percentage(basic_data)"
   ]
  },
  {
   "cell_type": "code",
   "execution_count": 9,
   "id": "283d3188",
   "metadata": {
    "execution": {
     "iopub.execute_input": "2024-05-31T10:44:48.977790Z",
     "iopub.status.busy": "2024-05-31T10:44:48.977543Z",
     "iopub.status.idle": "2024-05-31T10:44:48.996250Z",
     "shell.execute_reply": "2024-05-31T10:44:48.995435Z"
    },
    "papermill": {
     "duration": 0.030786,
     "end_time": "2024-05-31T10:44:48.998126",
     "exception": false,
     "start_time": "2024-05-31T10:44:48.967340",
     "status": "completed"
    },
    "tags": []
   },
   "outputs": [
    {
     "data": {
      "text/html": [
       "<div>\n",
       "<style scoped>\n",
       "    .dataframe tbody tr th:only-of-type {\n",
       "        vertical-align: middle;\n",
       "    }\n",
       "\n",
       "    .dataframe tbody tr th {\n",
       "        vertical-align: top;\n",
       "    }\n",
       "\n",
       "    .dataframe thead th {\n",
       "        text-align: right;\n",
       "    }\n",
       "</style>\n",
       "<table border=\"1\" class=\"dataframe\">\n",
       "  <thead>\n",
       "    <tr style=\"text-align: right;\">\n",
       "      <th></th>\n",
       "      <th>checkpoint</th>\n",
       "      <th>fname</th>\n",
       "      <th>target</th>\n",
       "    </tr>\n",
       "  </thead>\n",
       "  <tbody>\n",
       "    <tr>\n",
       "      <th>0</th>\n",
       "      <td>2023-11-22 18:27:26</td>\n",
       "      <td>audio_0.wav</td>\n",
       "      <td>0.8</td>\n",
       "    </tr>\n",
       "    <tr>\n",
       "      <th>1</th>\n",
       "      <td>2023-11-22 18:30:26</td>\n",
       "      <td>audio_1.wav</td>\n",
       "      <td>1.4</td>\n",
       "    </tr>\n",
       "    <tr>\n",
       "      <th>2</th>\n",
       "      <td>2023-11-22 18:33:26</td>\n",
       "      <td>audio_2.wav</td>\n",
       "      <td>1.0</td>\n",
       "    </tr>\n",
       "    <tr>\n",
       "      <th>3</th>\n",
       "      <td>2023-11-22 18:36:26</td>\n",
       "      <td>audio_3.wav</td>\n",
       "      <td>1.4</td>\n",
       "    </tr>\n",
       "    <tr>\n",
       "      <th>4</th>\n",
       "      <td>2023-11-22 18:39:26</td>\n",
       "      <td>audio_4.wav</td>\n",
       "      <td>0.2</td>\n",
       "    </tr>\n",
       "    <tr>\n",
       "      <th>...</th>\n",
       "      <td>...</td>\n",
       "      <td>...</td>\n",
       "      <td>...</td>\n",
       "    </tr>\n",
       "    <tr>\n",
       "      <th>809</th>\n",
       "      <td>2024-05-29 16:20:56</td>\n",
       "      <td>audio_1339.wav</td>\n",
       "      <td>0.6</td>\n",
       "    </tr>\n",
       "    <tr>\n",
       "      <th>810</th>\n",
       "      <td>2024-05-29 16:23:56</td>\n",
       "      <td>audio_1340.wav</td>\n",
       "      <td>0.6</td>\n",
       "    </tr>\n",
       "    <tr>\n",
       "      <th>811</th>\n",
       "      <td>2024-05-29 16:26:56</td>\n",
       "      <td>audio_1341.wav</td>\n",
       "      <td>0.6</td>\n",
       "    </tr>\n",
       "    <tr>\n",
       "      <th>812</th>\n",
       "      <td>2024-05-29 17:05:56</td>\n",
       "      <td>audio_1345.wav</td>\n",
       "      <td>0.6</td>\n",
       "    </tr>\n",
       "    <tr>\n",
       "      <th>813</th>\n",
       "      <td>2024-05-29 17:08:56</td>\n",
       "      <td>audio_1346.wav</td>\n",
       "      <td>0.6</td>\n",
       "    </tr>\n",
       "  </tbody>\n",
       "</table>\n",
       "<p>844 rows × 3 columns</p>\n",
       "</div>"
      ],
      "text/plain": [
       "             checkpoint           fname  target\n",
       "0   2023-11-22 18:27:26     audio_0.wav     0.8\n",
       "1   2023-11-22 18:30:26     audio_1.wav     1.4\n",
       "2   2023-11-22 18:33:26     audio_2.wav     1.0\n",
       "3   2023-11-22 18:36:26     audio_3.wav     1.4\n",
       "4   2023-11-22 18:39:26     audio_4.wav     0.2\n",
       "..                  ...             ...     ...\n",
       "809 2024-05-29 16:20:56  audio_1339.wav     0.6\n",
       "810 2024-05-29 16:23:56  audio_1340.wav     0.6\n",
       "811 2024-05-29 16:26:56  audio_1341.wav     0.6\n",
       "812 2024-05-29 17:05:56  audio_1345.wav     0.6\n",
       "813 2024-05-29 17:08:56  audio_1346.wav     0.6\n",
       "\n",
       "[844 rows x 3 columns]"
      ]
     },
     "execution_count": 9,
     "metadata": {},
     "output_type": "execute_result"
    }
   ],
   "source": [
    "basic_data_non_zero = basic_data[basic_data[\"target\"]!=0.0]\n",
    "basic_data_zero = basic_data[basic_data[\"target\"]==0.0]\n",
    "basic_data_zero = basic_data_zero.sample(n=30)\n",
    "basic_data_merged = pd.concat([basic_data_non_zero, basic_data_zero], ignore_index=True)\n",
    "basic_data = basic_data_merged.sample(frac=1)\n",
    "basic_data.sort_values(by=\"checkpoint\")"
   ]
  },
  {
   "cell_type": "code",
   "execution_count": 10,
   "id": "ced8300a",
   "metadata": {
    "execution": {
     "iopub.execute_input": "2024-05-31T10:44:49.018756Z",
     "iopub.status.busy": "2024-05-31T10:44:49.018476Z",
     "iopub.status.idle": "2024-05-31T10:44:49.022094Z",
     "shell.execute_reply": "2024-05-31T10:44:49.021281Z"
    },
    "papermill": {
     "duration": 0.016166,
     "end_time": "2024-05-31T10:44:49.023986",
     "exception": false,
     "start_time": "2024-05-31T10:44:49.007820",
     "status": "completed"
    },
    "tags": []
   },
   "outputs": [],
   "source": [
    "# basic_data = basic_data[basic_data[\"target\"]<4]"
   ]
  },
  {
   "cell_type": "code",
   "execution_count": 11,
   "id": "8eb1ea20",
   "metadata": {
    "execution": {
     "iopub.execute_input": "2024-05-31T10:44:49.044509Z",
     "iopub.status.busy": "2024-05-31T10:44:49.044250Z",
     "iopub.status.idle": "2024-05-31T10:44:49.444812Z",
     "shell.execute_reply": "2024-05-31T10:44:49.443781Z"
    },
    "papermill": {
     "duration": 0.413476,
     "end_time": "2024-05-31T10:44:49.447056",
     "exception": false,
     "start_time": "2024-05-31T10:44:49.033580",
     "status": "completed"
    },
    "tags": []
   },
   "outputs": [
    {
     "data": {
      "text/plain": [
       "<Axes: >"
      ]
     },
     "execution_count": 11,
     "metadata": {},
     "output_type": "execute_result"
    },
    {
     "data": {
      "image/png": "[encoded data removed]",
      "text/plain": [
       "<Figure size 640x480 with 1 Axes>"
      ]
     },
     "metadata": {},
     "output_type": "display_data"
    }
   ],
   "source": [
    "basic_data[\"target\"].hist()"
   ]
  },
  {
   "cell_type": "code",
   "execution_count": 12,
   "id": "020c8aa5",
   "metadata": {
    "execution": {
     "iopub.execute_input": "2024-05-31T10:44:49.469040Z",
     "iopub.status.busy": "2024-05-31T10:44:49.468740Z",
     "iopub.status.idle": "2024-05-31T10:44:49.480232Z",
     "shell.execute_reply": "2024-05-31T10:44:49.479309Z"
    },
    "papermill": {
     "duration": 0.024722,
     "end_time": "2024-05-31T10:44:49.482400",
     "exception": false,
     "start_time": "2024-05-31T10:44:49.457678",
     "status": "completed"
    },
    "tags": []
   },
   "outputs": [
    {
     "data": {
      "text/plain": [
       "target\n",
       "0.2     295\n",
       "0.6     163\n",
       "0.4     117\n",
       "1.2      62\n",
       "1.8      31\n",
       "0.0      30\n",
       "0.8      15\n",
       "2.4      14\n",
       "3.0      14\n",
       "3.6      10\n",
       "1.0       9\n",
       "4.2       9\n",
       "4.8       8\n",
       "2.6       7\n",
       "1.6       7\n",
       "1.4       5\n",
       "5.4       5\n",
       "7.8       4\n",
       "2.0       4\n",
       "9.0       3\n",
       "3.2       3\n",
       "3.8       3\n",
       "2.2       2\n",
       "7.2       2\n",
       "7.6       2\n",
       "2.8       2\n",
       "3.4       2\n",
       "8.4       1\n",
       "5.8       1\n",
       "9.6       1\n",
       "14.2      1\n",
       "4.0       1\n",
       "8.0       1\n",
       "13.0      1\n",
       "6.0       1\n",
       "6.6       1\n",
       "11.6      1\n",
       "11.0      1\n",
       "13.2      1\n",
       "19.2      1\n",
       "5.2       1\n",
       "21.6      1\n",
       "13.8      1\n",
       "Name: count, dtype: int64"
      ]
     },
     "execution_count": 12,
     "metadata": {},
     "output_type": "execute_result"
    }
   ],
   "source": [
    "basic_data[\"target\"].value_counts()"
   ]
  },
  {
   "cell_type": "code",
   "execution_count": 13,
   "id": "002d04c8",
   "metadata": {
    "execution": {
     "iopub.execute_input": "2024-05-31T10:44:49.504212Z",
     "iopub.status.busy": "2024-05-31T10:44:49.503926Z",
     "iopub.status.idle": "2024-05-31T10:44:49.510130Z",
     "shell.execute_reply": "2024-05-31T10:44:49.508968Z"
    },
    "papermill": {
     "duration": 0.019256,
     "end_time": "2024-05-31T10:44:49.512145",
     "exception": false,
     "start_time": "2024-05-31T10:44:49.492889",
     "status": "completed"
    },
    "tags": []
   },
   "outputs": [
    {
     "name": "stdout",
     "output_type": "stream",
     "text": [
      "Percentage of Zero datapoints:  3.5545023696682465 %\n"
     ]
    }
   ],
   "source": [
    "find_zero_point_percentage(basic_data)"
   ]
  },
  {
   "cell_type": "code",
   "execution_count": 14,
   "id": "f643e34b",
   "metadata": {
    "execution": {
     "iopub.execute_input": "2024-05-31T10:44:49.541465Z",
     "iopub.status.busy": "2024-05-31T10:44:49.540963Z",
     "iopub.status.idle": "2024-05-31T10:44:49.553462Z",
     "shell.execute_reply": "2024-05-31T10:44:49.552655Z"
    },
    "papermill": {
     "duration": 0.029262,
     "end_time": "2024-05-31T10:44:49.555280",
     "exception": false,
     "start_time": "2024-05-31T10:44:49.526018",
     "status": "completed"
    },
    "tags": []
   },
   "outputs": [
    {
     "data": {
      "text/html": [
       "<div>\n",
       "<style scoped>\n",
       "    .dataframe tbody tr th:only-of-type {\n",
       "        vertical-align: middle;\n",
       "    }\n",
       "\n",
       "    .dataframe tbody tr th {\n",
       "        vertical-align: top;\n",
       "    }\n",
       "\n",
       "    .dataframe thead th {\n",
       "        text-align: right;\n",
       "    }\n",
       "</style>\n",
       "<table border=\"1\" class=\"dataframe\">\n",
       "  <thead>\n",
       "    <tr style=\"text-align: right;\">\n",
       "      <th></th>\n",
       "      <th>checkpoint</th>\n",
       "      <th>fname</th>\n",
       "      <th>target</th>\n",
       "    </tr>\n",
       "  </thead>\n",
       "  <tbody>\n",
       "    <tr>\n",
       "      <th>436</th>\n",
       "      <td>2024-05-17 18:11:07</td>\n",
       "      <td>audio_798.wav</td>\n",
       "      <td>1.2</td>\n",
       "    </tr>\n",
       "    <tr>\n",
       "      <th>296</th>\n",
       "      <td>2023-12-17 13:02:35</td>\n",
       "      <td>audio_480.wav</td>\n",
       "      <td>0.4</td>\n",
       "    </tr>\n",
       "    <tr>\n",
       "      <th>142</th>\n",
       "      <td>2023-12-17 04:29:35</td>\n",
       "      <td>audio_319.wav</td>\n",
       "      <td>0.2</td>\n",
       "    </tr>\n",
       "    <tr>\n",
       "      <th>843</th>\n",
       "      <td>2023-11-22 20:36:26</td>\n",
       "      <td>audio_35.wav</td>\n",
       "      <td>0.0</td>\n",
       "    </tr>\n",
       "    <tr>\n",
       "      <th>507</th>\n",
       "      <td>2024-05-21 07:48:49</td>\n",
       "      <td>audio_928.wav</td>\n",
       "      <td>3.6</td>\n",
       "    </tr>\n",
       "    <tr>\n",
       "      <th>...</th>\n",
       "      <td>...</td>\n",
       "      <td>...</td>\n",
       "      <td>...</td>\n",
       "    </tr>\n",
       "    <tr>\n",
       "      <th>219</th>\n",
       "      <td>2023-12-17 09:11:35</td>\n",
       "      <td>audio_403.wav</td>\n",
       "      <td>0.4</td>\n",
       "    </tr>\n",
       "    <tr>\n",
       "      <th>514</th>\n",
       "      <td>2024-05-21 16:04:31</td>\n",
       "      <td>audio_936.wav</td>\n",
       "      <td>13.8</td>\n",
       "    </tr>\n",
       "    <tr>\n",
       "      <th>790</th>\n",
       "      <td>2024-05-29 14:26:56</td>\n",
       "      <td>audio_1316.wav</td>\n",
       "      <td>1.8</td>\n",
       "    </tr>\n",
       "    <tr>\n",
       "      <th>31</th>\n",
       "      <td>2023-11-22 21:57:26</td>\n",
       "      <td>audio_57.wav</td>\n",
       "      <td>1.0</td>\n",
       "    </tr>\n",
       "    <tr>\n",
       "      <th>829</th>\n",
       "      <td>2024-05-20 06:31:43</td>\n",
       "      <td>audio_843.wav</td>\n",
       "      <td>0.0</td>\n",
       "    </tr>\n",
       "  </tbody>\n",
       "</table>\n",
       "<p>844 rows × 3 columns</p>\n",
       "</div>"
      ],
      "text/plain": [
       "             checkpoint           fname  target\n",
       "436 2024-05-17 18:11:07   audio_798.wav     1.2\n",
       "296 2023-12-17 13:02:35   audio_480.wav     0.4\n",
       "142 2023-12-17 04:29:35   audio_319.wav     0.2\n",
       "843 2023-11-22 20:36:26    audio_35.wav     0.0\n",
       "507 2024-05-21 07:48:49   audio_928.wav     3.6\n",
       "..                  ...             ...     ...\n",
       "219 2023-12-17 09:11:35   audio_403.wav     0.4\n",
       "514 2024-05-21 16:04:31   audio_936.wav    13.8\n",
       "790 2024-05-29 14:26:56  audio_1316.wav     1.8\n",
       "31  2023-11-22 21:57:26    audio_57.wav     1.0\n",
       "829 2024-05-20 06:31:43   audio_843.wav     0.0\n",
       "\n",
       "[844 rows x 3 columns]"
      ]
     },
     "execution_count": 14,
     "metadata": {},
     "output_type": "execute_result"
    }
   ],
   "source": [
    "basic_data"
   ]
  },
  {
   "cell_type": "code",
   "execution_count": 15,
   "id": "dfacf507",
   "metadata": {
    "execution": {
     "iopub.execute_input": "2024-05-31T10:44:49.577508Z",
     "iopub.status.busy": "2024-05-31T10:44:49.576961Z",
     "iopub.status.idle": "2024-05-31T10:44:49.589045Z",
     "shell.execute_reply": "2024-05-31T10:44:49.588155Z"
    },
    "papermill": {
     "duration": 0.025318,
     "end_time": "2024-05-31T10:44:49.591002",
     "exception": false,
     "start_time": "2024-05-31T10:44:49.565684",
     "status": "completed"
    },
    "tags": []
   },
   "outputs": [],
   "source": [
    "class Dataset:\n",
    "    def __init__(self, basic_data, data_path, output_shape, validation=False):\n",
    "        self.basic_data = basic_data\n",
    "        self.y = self.basic_data[\"target\"].values\n",
    "        self.X = self.basic_data[\"fname\"].values\n",
    "        self.data_path = data_path\n",
    "        self.validation = validation\n",
    "        self.output_shape = output_shape\n",
    "        self.X_train, self.X_test, self.y_train, self.y_test = train_test_split(self.X, \n",
    "                                                                                self.y,\n",
    "                                                                                test_size=0.25)\n",
    "    def __len__(self):\n",
    "        if self.validation:\n",
    "            data_len = int(np.ceil(len(self.y_test)))\n",
    "        else:\n",
    "            data_len = int(np.ceil(len(self.y_train)))\n",
    "        return int(np.ceil(data_len))\n",
    "    \n",
    "    def create_cnn_data(self, raw_data):\n",
    "        Zxx = librosa.stft(raw_data)\n",
    "        stft_sample = np.abs(Zxx)\n",
    "        return stft_sample\n",
    "    \n",
    "    def create_mfcc_data(self, raw_data):\n",
    "        mfcc = librosa.feature.mfcc(y=raw_data, sr=Fs, n_mfcc=13)\n",
    "        return mfcc\n",
    "    \n",
    "    def create_chroma_stft_data(self, raw_data):\n",
    "        chroma = librosa.feature.chroma_stft(y=raw_data, sr=Fs)\n",
    "        return chroma\n",
    "\n",
    "    def __getitem__(self, index):\n",
    "        if self.validation:\n",
    "            audio_file = self.X_test[index]\n",
    "            batch_target = self.y_test[index]\n",
    "        else:\n",
    "            audio_file = self.X_train[index]\n",
    "            batch_target = self.y_train[index]\n",
    "        audio_file = audio_file.split(\".\")[0]+\".npy\"\n",
    "        audio_data = np.load(join(self.data_path, audio_file))\n",
    "        audio_data = audio_data[:SEQ_LEN]\n",
    "        \n",
    "        features = self.create_cnn_data(audio_data)\n",
    "#         features = self.create_mfcc_data(audio_data)\n",
    "#         features = self.create_chroma_stft_data(audio_data)\n",
    "        \n",
    "        batch_target = batch_target.reshape(self.output_shape)\n",
    "\n",
    "        return features, batch_target"
   ]
  },
  {
   "cell_type": "code",
   "execution_count": 16,
   "id": "b086c849",
   "metadata": {
    "execution": {
     "iopub.execute_input": "2024-05-31T10:44:49.613160Z",
     "iopub.status.busy": "2024-05-31T10:44:49.612868Z",
     "iopub.status.idle": "2024-05-31T10:44:49.620188Z",
     "shell.execute_reply": "2024-05-31T10:44:49.619348Z"
    },
    "papermill": {
     "duration": 0.020627,
     "end_time": "2024-05-31T10:44:49.622134",
     "exception": false,
     "start_time": "2024-05-31T10:44:49.601507",
     "status": "completed"
    },
    "tags": []
   },
   "outputs": [],
   "source": [
    "class Dataloder(Sequence):    \n",
    "    def __init__(self, dataset, batch_size=1, shuffle=False):\n",
    "        self.dataset = dataset\n",
    "        self.batch_size = batch_size\n",
    "        self.shuffle = shuffle\n",
    "        self.indexes = np.arange(len(dataset))\n",
    "\n",
    "    def __getitem__(self, i):\n",
    "        start = i * self.batch_size\n",
    "        stop = (i + 1) * self.batch_size\n",
    "        data = []\n",
    "        \n",
    "        for j in range(start, stop):\n",
    "            data.append(self.dataset[j])\n",
    "        batch = [np.stack(samples, axis=0) for samples in zip(*data)]\n",
    "        return tuple(batch)\n",
    "    \n",
    "    def __len__(self):\n",
    "        return len(self.indexes) // self.batch_size\n",
    "    \n",
    "    def on_epoch_end(self):\n",
    "        if self.shuffle:\n",
    "            self.indexes = np.random.permutation(self.indexes)"
   ]
  },
  {
   "cell_type": "code",
   "execution_count": 17,
   "id": "d6ee403a",
   "metadata": {
    "execution": {
     "iopub.execute_input": "2024-05-31T10:44:49.643960Z",
     "iopub.status.busy": "2024-05-31T10:44:49.643681Z",
     "iopub.status.idle": "2024-05-31T10:44:49.647498Z",
     "shell.execute_reply": "2024-05-31T10:44:49.646788Z"
    },
    "papermill": {
     "duration": 0.016766,
     "end_time": "2024-05-31T10:44:49.649317",
     "exception": false,
     "start_time": "2024-05-31T10:44:49.632551",
     "status": "completed"
    },
    "tags": []
   },
   "outputs": [],
   "source": [
    "EPOCHS = 30\n",
    "BATCH_SIZE = 8\n",
    "output_shape = (1, 1)"
   ]
  },
  {
   "cell_type": "code",
   "execution_count": 18,
   "id": "b829293a",
   "metadata": {
    "execution": {
     "iopub.execute_input": "2024-05-31T10:44:49.671178Z",
     "iopub.status.busy": "2024-05-31T10:44:49.670886Z",
     "iopub.status.idle": "2024-05-31T10:44:49.676715Z",
     "shell.execute_reply": "2024-05-31T10:44:49.675981Z"
    },
    "papermill": {
     "duration": 0.018881,
     "end_time": "2024-05-31T10:44:49.678544",
     "exception": false,
     "start_time": "2024-05-31T10:44:49.659663",
     "status": "completed"
    },
    "tags": []
   },
   "outputs": [],
   "source": [
    "train_dataset = Dataset(basic_data,\n",
    "                        AUDIO_PATH,\n",
    "                        output_shape)\n",
    "\n",
    "train_dataloader = Dataloder(train_dataset, \n",
    "                             batch_size=BATCH_SIZE)\n",
    "\n",
    "test_dataset = Dataset(basic_data,\n",
    "                       AUDIO_PATH,\n",
    "                       output_shape,\n",
    "                       validation=True)\n",
    "\n",
    "test_dataloader = Dataloder(test_dataset, \n",
    "                            batch_size=BATCH_SIZE)"
   ]
  },
  {
   "cell_type": "code",
   "execution_count": 19,
   "id": "c0446932",
   "metadata": {
    "execution": {
     "iopub.execute_input": "2024-05-31T10:44:49.700395Z",
     "iopub.status.busy": "2024-05-31T10:44:49.700130Z",
     "iopub.status.idle": "2024-05-31T10:44:50.582169Z",
     "shell.execute_reply": "2024-05-31T10:44:50.581259Z"
    },
    "papermill": {
     "duration": 0.895198,
     "end_time": "2024-05-31T10:44:50.584176",
     "exception": false,
     "start_time": "2024-05-31T10:44:49.688978",
     "status": "completed"
    },
    "tags": []
   },
   "outputs": [],
   "source": [
    "adamopt = Adam(learning_rate=LEARNING_RATE, beta_1=0.9, beta_2=0.999, epsilon=1e-8)"
   ]
  },
  {
   "cell_type": "code",
   "execution_count": 20,
   "id": "b4e6a080",
   "metadata": {
    "execution": {
     "iopub.execute_input": "2024-05-31T10:44:50.608541Z",
     "iopub.status.busy": "2024-05-31T10:44:50.608229Z",
     "iopub.status.idle": "2024-05-31T10:44:50.615795Z",
     "shell.execute_reply": "2024-05-31T10:44:50.614926Z"
    },
    "papermill": {
     "duration": 0.021114,
     "end_time": "2024-05-31T10:44:50.617671",
     "exception": false,
     "start_time": "2024-05-31T10:44:50.596557",
     "status": "completed"
    },
    "tags": []
   },
   "outputs": [],
   "source": [
    "def create_functional_model():\n",
    "    model = Sequential()\n",
    "    model.add(Input((1025, 2672, 1)))\n",
    "    model.add(Conv2D(64, kernel_size=(8, 8), activation=\"relu\"))\n",
    "    model.add(MaxPooling2D(pool_size=(8, 8)))\n",
    "    model.add(Conv2D(32, kernel_size=(4, 4), activation=\"relu\"))\n",
    "    model.add(MaxPooling2D(pool_size=(4, 4)))\n",
    "    model.add(Conv2D(16, kernel_size=(2, 2), activation=\"relu\"))\n",
    "    model.add(MaxPooling2D(pool_size=(2, 2)))\n",
    "    model.add(Reshape((1, -1)))\n",
    "    model.add(LSTM(20))\n",
    "    model.add(Dense(32))\n",
    "    model.add(Dense(16))\n",
    "    model.add(Dense(1))\n",
    "    return model"
   ]
  },
  {
   "cell_type": "code",
   "execution_count": 21,
   "id": "1e79f697",
   "metadata": {
    "execution": {
     "iopub.execute_input": "2024-05-31T10:44:50.640032Z",
     "iopub.status.busy": "2024-05-31T10:44:50.639738Z",
     "iopub.status.idle": "2024-05-31T10:44:51.070825Z",
     "shell.execute_reply": "2024-05-31T10:44:51.069990Z"
    },
    "papermill": {
     "duration": 0.444827,
     "end_time": "2024-05-31T10:44:51.073095",
     "exception": false,
     "start_time": "2024-05-31T10:44:50.628268",
     "status": "completed"
    },
    "tags": []
   },
   "outputs": [],
   "source": [
    "model = create_functional_model()"
   ]
  },
  {
   "cell_type": "code",
   "execution_count": 22,
   "id": "9bcddab6",
   "metadata": {
    "execution": {
     "iopub.execute_input": "2024-05-31T10:44:51.100745Z",
     "iopub.status.busy": "2024-05-31T10:44:51.100210Z",
     "iopub.status.idle": "2024-05-31T10:44:51.105062Z",
     "shell.execute_reply": "2024-05-31T10:44:51.103969Z"
    },
    "papermill": {
     "duration": 0.020501,
     "end_time": "2024-05-31T10:44:51.107030",
     "exception": false,
     "start_time": "2024-05-31T10:44:51.086529",
     "status": "completed"
    },
    "tags": []
   },
   "outputs": [],
   "source": [
    "# plot_model(model,\n",
    "#            to_file=\"rain_gauge_model.png\",\n",
    "#            show_shapes=True,\n",
    "#            dpi=100)"
   ]
  },
  {
   "cell_type": "code",
   "execution_count": 23,
   "id": "5d53b12f",
   "metadata": {
    "execution": {
     "iopub.execute_input": "2024-05-31T10:44:51.136173Z",
     "iopub.status.busy": "2024-05-31T10:44:51.135858Z",
     "iopub.status.idle": "2024-05-31T10:44:51.140431Z",
     "shell.execute_reply": "2024-05-31T10:44:51.139675Z"
    },
    "papermill": {
     "duration": 0.023072,
     "end_time": "2024-05-31T10:44:51.144092",
     "exception": false,
     "start_time": "2024-05-31T10:44:51.121020",
     "status": "completed"
    },
    "tags": []
   },
   "outputs": [],
   "source": [
    "cp_callback = ModelCheckpoint(filepath=model_name,\n",
    "                              monitor=\"val_loss\",\n",
    "                              verbose=0,\n",
    "                              save_best_only=True,\n",
    "                              save_weights_only=True,\n",
    "                              mode=\"min\")"
   ]
  },
  {
   "cell_type": "code",
   "execution_count": 24,
   "id": "03faee22",
   "metadata": {
    "execution": {
     "iopub.execute_input": "2024-05-31T10:44:51.208173Z",
     "iopub.status.busy": "2024-05-31T10:44:51.207805Z",
     "iopub.status.idle": "2024-05-31T10:44:51.221621Z",
     "shell.execute_reply": "2024-05-31T10:44:51.220918Z"
    },
    "papermill": {
     "duration": 0.067203,
     "end_time": "2024-05-31T10:44:51.223608",
     "exception": false,
     "start_time": "2024-05-31T10:44:51.156405",
     "status": "completed"
    },
    "tags": []
   },
   "outputs": [],
   "source": [
    "model.compile(optimizer= adamopt, loss=\"mean_squared_error\", metrics=[\"mse\"])"
   ]
  },
  {
   "cell_type": "code",
   "execution_count": 25,
   "id": "490f1f26",
   "metadata": {
    "execution": {
     "iopub.execute_input": "2024-05-31T10:44:51.246011Z",
     "iopub.status.busy": "2024-05-31T10:44:51.245726Z",
     "iopub.status.idle": "2024-05-31T11:19:58.636557Z",
     "shell.execute_reply": "2024-05-31T11:19:58.635526Z"
    },
    "papermill": {
     "duration": 2107.605554,
     "end_time": "2024-05-31T11:19:58.839806",
     "exception": false,
     "start_time": "2024-05-31T10:44:51.234252",
     "status": "completed"
    },
    "tags": []
   },
   "outputs": [
    {
     "name": "stdout",
     "output_type": "stream",
     "text": [
      "Epoch 1/30\n",
      "79/79 [==============================] - 102s 1s/step - loss: 2.7259 - mse: 2.7259 - val_loss: 1.8745 - val_mse: 1.8745\n",
      "Epoch 2/30\n",
      "79/79 [==============================] - 69s 875ms/step - loss: 2.3880 - mse: 2.3880 - val_loss: 1.6846 - val_mse: 1.6846\n",
      "Epoch 3/30\n",
      "79/79 [==============================] - 69s 870ms/step - loss: 2.0853 - mse: 2.0853 - val_loss: 2.7506 - val_mse: 2.7506\n",
      "Epoch 4/30\n",
      "79/79 [==============================] - 68s 858ms/step - loss: 2.3453 - mse: 2.3453 - val_loss: 1.6779 - val_mse: 1.6779\n",
      "Epoch 5/30\n",
      "79/79 [==============================] - 68s 859ms/step - loss: 2.1192 - mse: 2.1192 - val_loss: 1.8539 - val_mse: 1.8539\n",
      "Epoch 6/30\n",
      "79/79 [==============================] - 67s 854ms/step - loss: 1.7590 - mse: 1.7590 - val_loss: 1.4254 - val_mse: 1.4254\n",
      "Epoch 7/30\n",
      "79/79 [==============================] - 68s 865ms/step - loss: 1.3502 - mse: 1.3502 - val_loss: 1.2403 - val_mse: 1.2403\n",
      "Epoch 8/30\n",
      "79/79 [==============================] - 68s 861ms/step - loss: 1.1143 - mse: 1.1143 - val_loss: 1.2355 - val_mse: 1.2355\n",
      "Epoch 9/30\n",
      "79/79 [==============================] - 67s 855ms/step - loss: 1.1644 - mse: 1.1644 - val_loss: 1.0287 - val_mse: 1.0287\n",
      "Epoch 10/30\n",
      "79/79 [==============================] - 67s 844ms/step - loss: 0.9933 - mse: 0.9933 - val_loss: 0.9398 - val_mse: 0.9398\n",
      "Epoch 11/30\n",
      "79/79 [==============================] - 69s 873ms/step - loss: 1.1396 - mse: 1.1396 - val_loss: 0.8625 - val_mse: 0.8625\n",
      "Epoch 12/30\n",
      "79/79 [==============================] - 71s 894ms/step - loss: 0.9533 - mse: 0.9533 - val_loss: 0.9387 - val_mse: 0.9387\n",
      "Epoch 13/30\n",
      "79/79 [==============================] - 69s 868ms/step - loss: 1.2064 - mse: 1.2064 - val_loss: 0.7870 - val_mse: 0.7870\n",
      "Epoch 14/30\n",
      "79/79 [==============================] - 70s 883ms/step - loss: 1.0122 - mse: 1.0122 - val_loss: 1.1751 - val_mse: 1.1751\n",
      "Epoch 15/30\n",
      "79/79 [==============================] - 70s 888ms/step - loss: 1.0279 - mse: 1.0279 - val_loss: 0.6854 - val_mse: 0.6854\n",
      "Epoch 16/30\n",
      "79/79 [==============================] - 70s 890ms/step - loss: 0.6508 - mse: 0.6508 - val_loss: 0.8850 - val_mse: 0.8850\n",
      "Epoch 17/30\n",
      "79/79 [==============================] - 70s 892ms/step - loss: 0.8460 - mse: 0.8460 - val_loss: 0.7822 - val_mse: 0.7822\n",
      "Epoch 18/30\n",
      "79/79 [==============================] - 70s 885ms/step - loss: 0.7171 - mse: 0.7171 - val_loss: 0.7675 - val_mse: 0.7675\n",
      "Epoch 19/30\n",
      "79/79 [==============================] - 67s 853ms/step - loss: 0.4694 - mse: 0.4694 - val_loss: 0.5193 - val_mse: 0.5193\n",
      "Epoch 20/30\n",
      "79/79 [==============================] - 67s 854ms/step - loss: 0.3602 - mse: 0.3602 - val_loss: 0.3938 - val_mse: 0.3938\n",
      "Epoch 21/30\n",
      "79/79 [==============================] - 68s 860ms/step - loss: 0.3015 - mse: 0.3015 - val_loss: 0.3899 - val_mse: 0.3899\n",
      "Epoch 22/30\n",
      "79/79 [==============================] - 68s 857ms/step - loss: 0.2324 - mse: 0.2324 - val_loss: 0.3156 - val_mse: 0.3156\n",
      "Epoch 23/30\n",
      "79/79 [==============================] - 68s 864ms/step - loss: 0.2057 - mse: 0.2057 - val_loss: 0.3477 - val_mse: 0.3477\n",
      "Epoch 24/30\n",
      "79/79 [==============================] - 68s 860ms/step - loss: 0.1722 - mse: 0.1722 - val_loss: 0.3185 - val_mse: 0.3185\n",
      "Epoch 25/30\n",
      "79/79 [==============================] - 69s 880ms/step - loss: 0.1485 - mse: 0.1485 - val_loss: 0.3114 - val_mse: 0.3114\n",
      "Epoch 26/30\n",
      "79/79 [==============================] - 69s 877ms/step - loss: 0.1317 - mse: 0.1317 - val_loss: 0.2698 - val_mse: 0.2698\n",
      "Epoch 27/30\n",
      "79/79 [==============================] - 71s 894ms/step - loss: 0.1197 - mse: 0.1197 - val_loss: 0.2597 - val_mse: 0.2597\n",
      "Epoch 28/30\n",
      "79/79 [==============================] - 69s 875ms/step - loss: 0.1100 - mse: 0.1100 - val_loss: 0.2802 - val_mse: 0.2802\n",
      "Epoch 29/30\n",
      "79/79 [==============================] - 70s 884ms/step - loss: 0.0969 - mse: 0.0969 - val_loss: 0.2884 - val_mse: 0.2884\n",
      "Epoch 30/30\n",
      "79/79 [==============================] - 71s 893ms/step - loss: 0.0941 - mse: 0.0941 - val_loss: 0.3090 - val_mse: 0.3090\n"
     ]
    }
   ],
   "source": [
    "history = model.fit(train_dataloader,\n",
    "                    validation_data=test_dataloader,\n",
    "                    epochs=EPOCHS,\n",
    "                    callbacks=[cp_callback])"
   ]
  },
  {
   "cell_type": "code",
   "execution_count": 26,
   "id": "38953d4d",
   "metadata": {
    "execution": {
     "iopub.execute_input": "2024-05-31T11:19:59.290576Z",
     "iopub.status.busy": "2024-05-31T11:19:59.289483Z",
     "iopub.status.idle": "2024-05-31T11:19:59.294753Z",
     "shell.execute_reply": "2024-05-31T11:19:59.293927Z"
    },
    "papermill": {
     "duration": 0.208928,
     "end_time": "2024-05-31T11:19:59.296585",
     "exception": false,
     "start_time": "2024-05-31T11:19:59.087657",
     "status": "completed"
    },
    "tags": []
   },
   "outputs": [],
   "source": [
    "with open(\"history.pkl\", \"wb\") as f:\n",
    "    pickle.dump(history.history, f)"
   ]
  },
  {
   "cell_type": "code",
   "execution_count": 27,
   "id": "904eac3d",
   "metadata": {
    "execution": {
     "iopub.execute_input": "2024-05-31T11:19:59.693920Z",
     "iopub.status.busy": "2024-05-31T11:19:59.693190Z",
     "iopub.status.idle": "2024-05-31T11:19:59.699097Z",
     "shell.execute_reply": "2024-05-31T11:19:59.698115Z"
    },
    "papermill": {
     "duration": 0.206496,
     "end_time": "2024-05-31T11:19:59.700895",
     "exception": false,
     "start_time": "2024-05-31T11:19:59.494399",
     "status": "completed"
    },
    "tags": []
   },
   "outputs": [],
   "source": [
    "def plot_history(history):\n",
    "    plt.plot(history.history[\"loss\"])\n",
    "    plt.plot(history.history[\"val_loss\"])\n",
    "    plt.xlabel(\"Epochs\")\n",
    "    plt.ylabel(\"log Loss\")\n",
    "    plt.legend([\"train\", \"validation\"], loc=\"upper right\")\n",
    "    plt.show()"
   ]
  },
  {
   "cell_type": "code",
   "execution_count": 28,
   "id": "c0204d17",
   "metadata": {
    "execution": {
     "iopub.execute_input": "2024-05-31T11:20:00.106183Z",
     "iopub.status.busy": "2024-05-31T11:20:00.105341Z",
     "iopub.status.idle": "2024-05-31T11:20:00.360653Z",
     "shell.execute_reply": "2024-05-31T11:20:00.359698Z"
    },
    "papermill": {
     "duration": 0.457907,
     "end_time": "2024-05-31T11:20:00.362589",
     "exception": false,
     "start_time": "2024-05-31T11:19:59.904682",
     "status": "completed"
    },
    "tags": []
   },
   "outputs": [
    {
     "data": {
      "image/png": "[encoded data removed]",
      "text/plain": [
       "<Figure size 640x480 with 1 Axes>"
      ]
     },
     "metadata": {},
     "output_type": "display_data"
    }
   ],
   "source": [
    "plot_history(history)"
   ]
  },
  {
   "cell_type": "code",
   "execution_count": 29,
   "id": "e11131cb",
   "metadata": {
    "execution": {
     "iopub.execute_input": "2024-05-31T11:20:00.761117Z",
     "iopub.status.busy": "2024-05-31T11:20:00.760776Z",
     "iopub.status.idle": "2024-05-31T11:20:00.794661Z",
     "shell.execute_reply": "2024-05-31T11:20:00.793883Z"
    },
    "papermill": {
     "duration": 0.234867,
     "end_time": "2024-05-31T11:20:00.796594",
     "exception": false,
     "start_time": "2024-05-31T11:20:00.561727",
     "status": "completed"
    },
    "tags": []
   },
   "outputs": [],
   "source": [
    "model.load_weights(model_name)"
   ]
  },
  {
   "cell_type": "code",
   "execution_count": 30,
   "id": "4a215d8b",
   "metadata": {
    "execution": {
     "iopub.execute_input": "2024-05-31T11:20:01.213175Z",
     "iopub.status.busy": "2024-05-31T11:20:01.212832Z",
     "iopub.status.idle": "2024-05-31T11:20:25.601621Z",
     "shell.execute_reply": "2024-05-31T11:20:25.600356Z"
    },
    "papermill": {
     "duration": 24.604452,
     "end_time": "2024-05-31T11:20:25.603615",
     "exception": false,
     "start_time": "2024-05-31T11:20:00.999163",
     "status": "completed"
    },
    "tags": []
   },
   "outputs": [
    {
     "name": "stderr",
     "output_type": "stream",
     "text": [
      "100%|██████████| 26/26 [00:24<00:00,  1.07it/s]\n"
     ]
    }
   ],
   "source": [
    "y_preds = []\n",
    "y_tests = []\n",
    "n_test = test_dataloader.__len__()\n",
    "for i in tqdm(range(n_test)):\n",
    "    X_test, y_test = test_dataloader.__getitem__(i)\n",
    "    y_tests.extend(y_test.flatten())\n",
    "    y_pred = model.predict(X_test, verbose=0).flatten()\n",
    "    y_preds.extend(y_pred)\n",
    "result_df = pd.DataFrame()\n",
    "result_df[\"y_tests\"] = y_tests\n",
    "result_df[\"y_preds\"] = y_preds"
   ]
  },
  {
   "cell_type": "code",
   "execution_count": 31,
   "id": "62d67cb0",
   "metadata": {
    "execution": {
     "iopub.execute_input": "2024-05-31T11:20:26.015903Z",
     "iopub.status.busy": "2024-05-31T11:20:26.015020Z",
     "iopub.status.idle": "2024-05-31T11:20:26.019341Z",
     "shell.execute_reply": "2024-05-31T11:20:26.018380Z"
    },
    "papermill": {
     "duration": 0.212598,
     "end_time": "2024-05-31T11:20:26.021380",
     "exception": false,
     "start_time": "2024-05-31T11:20:25.808782",
     "status": "completed"
    },
    "tags": []
   },
   "outputs": [],
   "source": [
    "# outliers =  [1, 11, 25, 39]\n",
    "# result_df = result_df.loc[~result_df.index.isin(outliers)]\n",
    "# result_df = result_df[result_df[\"y_tests\"]!=0]"
   ]
  },
  {
   "cell_type": "code",
   "execution_count": 32,
   "id": "7f2c9b28",
   "metadata": {
    "execution": {
     "iopub.execute_input": "2024-05-31T11:20:26.436040Z",
     "iopub.status.busy": "2024-05-31T11:20:26.435675Z",
     "iopub.status.idle": "2024-05-31T11:20:26.778249Z",
     "shell.execute_reply": "2024-05-31T11:20:26.777268Z"
    },
    "papermill": {
     "duration": 0.5523,
     "end_time": "2024-05-31T11:20:26.780575",
     "exception": false,
     "start_time": "2024-05-31T11:20:26.228275",
     "status": "completed"
    },
    "tags": []
   },
   "outputs": [
    {
     "data": {
      "text/plain": [
       "Text(0, 0.5, 'Rainfall acoustic (mm) (estimated)')"
      ]
     },
     "execution_count": 32,
     "metadata": {},
     "output_type": "execute_result"
    },
    {
     "data": {
      "image/png": "[encoded data removed]",
      "text/plain": [
       "<Figure size 640x480 with 1 Axes>"
      ]
     },
     "metadata": {},
     "output_type": "display_data"
    }
   ],
   "source": [
    "plt.scatter(result_df[\"y_tests\"], result_df[\"y_preds\"])\n",
    "plt.xlabel(\"Rainfall mechanical (mm)\")\n",
    "plt.ylabel(\"Rainfall acoustic (mm) (estimated)\")"
   ]
  },
  {
   "cell_type": "code",
   "execution_count": 33,
   "id": "0b5cda11",
   "metadata": {
    "execution": {
     "iopub.execute_input": "2024-05-31T11:20:27.206225Z",
     "iopub.status.busy": "2024-05-31T11:20:27.205568Z",
     "iopub.status.idle": "2024-05-31T11:20:27.218736Z",
     "shell.execute_reply": "2024-05-31T11:20:27.217872Z"
    },
    "papermill": {
     "duration": 0.223144,
     "end_time": "2024-05-31T11:20:27.220724",
     "exception": false,
     "start_time": "2024-05-31T11:20:26.997580",
     "status": "completed"
    },
    "tags": []
   },
   "outputs": [
    {
     "data": {
      "text/html": [
       "<div>\n",
       "<style scoped>\n",
       "    .dataframe tbody tr th:only-of-type {\n",
       "        vertical-align: middle;\n",
       "    }\n",
       "\n",
       "    .dataframe tbody tr th {\n",
       "        vertical-align: top;\n",
       "    }\n",
       "\n",
       "    .dataframe thead th {\n",
       "        text-align: right;\n",
       "    }\n",
       "</style>\n",
       "<table border=\"1\" class=\"dataframe\">\n",
       "  <thead>\n",
       "    <tr style=\"text-align: right;\">\n",
       "      <th></th>\n",
       "      <th>y_tests</th>\n",
       "      <th>y_preds</th>\n",
       "    </tr>\n",
       "  </thead>\n",
       "  <tbody>\n",
       "    <tr>\n",
       "      <th>0</th>\n",
       "      <td>0.6</td>\n",
       "      <td>0.352114</td>\n",
       "    </tr>\n",
       "    <tr>\n",
       "      <th>1</th>\n",
       "      <td>0.6</td>\n",
       "      <td>0.597126</td>\n",
       "    </tr>\n",
       "    <tr>\n",
       "      <th>2</th>\n",
       "      <td>0.2</td>\n",
       "      <td>0.237953</td>\n",
       "    </tr>\n",
       "    <tr>\n",
       "      <th>3</th>\n",
       "      <td>13.2</td>\n",
       "      <td>13.828427</td>\n",
       "    </tr>\n",
       "    <tr>\n",
       "      <th>4</th>\n",
       "      <td>0.8</td>\n",
       "      <td>0.887760</td>\n",
       "    </tr>\n",
       "    <tr>\n",
       "      <th>...</th>\n",
       "      <td>...</td>\n",
       "      <td>...</td>\n",
       "    </tr>\n",
       "    <tr>\n",
       "      <th>203</th>\n",
       "      <td>0.4</td>\n",
       "      <td>0.296331</td>\n",
       "    </tr>\n",
       "    <tr>\n",
       "      <th>204</th>\n",
       "      <td>0.2</td>\n",
       "      <td>0.296514</td>\n",
       "    </tr>\n",
       "    <tr>\n",
       "      <th>205</th>\n",
       "      <td>0.2</td>\n",
       "      <td>0.296321</td>\n",
       "    </tr>\n",
       "    <tr>\n",
       "      <th>206</th>\n",
       "      <td>0.2</td>\n",
       "      <td>0.358646</td>\n",
       "    </tr>\n",
       "    <tr>\n",
       "      <th>207</th>\n",
       "      <td>0.0</td>\n",
       "      <td>0.297217</td>\n",
       "    </tr>\n",
       "  </tbody>\n",
       "</table>\n",
       "<p>208 rows × 2 columns</p>\n",
       "</div>"
      ],
      "text/plain": [
       "     y_tests    y_preds\n",
       "0        0.6   0.352114\n",
       "1        0.6   0.597126\n",
       "2        0.2   0.237953\n",
       "3       13.2  13.828427\n",
       "4        0.8   0.887760\n",
       "..       ...        ...\n",
       "203      0.4   0.296331\n",
       "204      0.2   0.296514\n",
       "205      0.2   0.296321\n",
       "206      0.2   0.358646\n",
       "207      0.0   0.297217\n",
       "\n",
       "[208 rows x 2 columns]"
      ]
     },
     "execution_count": 33,
     "metadata": {},
     "output_type": "execute_result"
    }
   ],
   "source": [
    "result_df"
   ]
  },
  {
   "cell_type": "code",
   "execution_count": 34,
   "id": "db75f1ad",
   "metadata": {
    "execution": {
     "iopub.execute_input": "2024-05-31T11:20:27.644642Z",
     "iopub.status.busy": "2024-05-31T11:20:27.644232Z",
     "iopub.status.idle": "2024-05-31T11:20:27.653383Z",
     "shell.execute_reply": "2024-05-31T11:20:27.652344Z"
    },
    "papermill": {
     "duration": 0.231513,
     "end_time": "2024-05-31T11:20:27.655834",
     "exception": false,
     "start_time": "2024-05-31T11:20:27.424321",
     "status": "completed"
    },
    "tags": []
   },
   "outputs": [
    {
     "name": "stdout",
     "output_type": "stream",
     "text": [
      "Mean Absolute Percentage Error: 61.357%\n"
     ]
    }
   ],
   "source": [
    "result = result_df[(result_df[\"y_tests\"]!=0.0)]\n",
    "A = result[\"y_tests\"]\n",
    "F = result[\"y_preds\"]\n",
    "N = result.shape[0]\n",
    "MAPE = np.sum(abs((A-F)/(A+0.00001)))*100/N\n",
    "print(\"Mean Absolute Percentage Error: {}%\".format(np.round(MAPE, 3)))"
   ]
  },
  {
   "cell_type": "code",
   "execution_count": 35,
   "id": "9975d026",
   "metadata": {
    "execution": {
     "iopub.execute_input": "2024-05-31T11:20:28.161638Z",
     "iopub.status.busy": "2024-05-31T11:20:28.160804Z",
     "iopub.status.idle": "2024-05-31T11:20:28.176919Z",
     "shell.execute_reply": "2024-05-31T11:20:28.175926Z"
    },
    "papermill": {
     "duration": 0.241929,
     "end_time": "2024-05-31T11:20:28.178953",
     "exception": false,
     "start_time": "2024-05-31T11:20:27.937024",
     "status": "completed"
    },
    "tags": []
   },
   "outputs": [
    {
     "data": {
      "text/html": [
       "<div>\n",
       "<style scoped>\n",
       "    .dataframe tbody tr th:only-of-type {\n",
       "        vertical-align: middle;\n",
       "    }\n",
       "\n",
       "    .dataframe tbody tr th {\n",
       "        vertical-align: top;\n",
       "    }\n",
       "\n",
       "    .dataframe thead th {\n",
       "        text-align: right;\n",
       "    }\n",
       "</style>\n",
       "<table border=\"1\" class=\"dataframe\">\n",
       "  <thead>\n",
       "    <tr style=\"text-align: right;\">\n",
       "      <th></th>\n",
       "      <th>y_tests</th>\n",
       "      <th>y_preds</th>\n",
       "    </tr>\n",
       "  </thead>\n",
       "  <tbody>\n",
       "    <tr>\n",
       "      <th>y_tests</th>\n",
       "      <td>1.000000</td>\n",
       "      <td>0.669329</td>\n",
       "    </tr>\n",
       "    <tr>\n",
       "      <th>y_preds</th>\n",
       "      <td>0.669329</td>\n",
       "      <td>1.000000</td>\n",
       "    </tr>\n",
       "  </tbody>\n",
       "</table>\n",
       "</div>"
      ],
      "text/plain": [
       "          y_tests   y_preds\n",
       "y_tests  1.000000  0.669329\n",
       "y_preds  0.669329  1.000000"
      ]
     },
     "execution_count": 35,
     "metadata": {},
     "output_type": "execute_result"
    }
   ],
   "source": [
    "result_df.corr(method='spearman')"
   ]
  },
  {
   "cell_type": "code",
   "execution_count": 36,
   "id": "3c97958a",
   "metadata": {
    "execution": {
     "iopub.execute_input": "2024-05-31T11:20:28.616889Z",
     "iopub.status.busy": "2024-05-31T11:20:28.616017Z",
     "iopub.status.idle": "2024-05-31T11:20:28.625306Z",
     "shell.execute_reply": "2024-05-31T11:20:28.624249Z"
    },
    "papermill": {
     "duration": 0.227638,
     "end_time": "2024-05-31T11:20:28.627466",
     "exception": false,
     "start_time": "2024-05-31T11:20:28.399828",
     "status": "completed"
    },
    "tags": []
   },
   "outputs": [
    {
     "name": "stdout",
     "output_type": "stream",
     "text": [
      "R2 score:  0.9337642989987405\n"
     ]
    },
    {
     "name": "stderr",
     "output_type": "stream",
     "text": [
      "/opt/conda/lib/python3.10/site-packages/sklearn/utils/validation.py:605: FutureWarning: is_sparse is deprecated and will be removed in a future version. Check `isinstance(dtype, pd.SparseDtype)` instead.\n",
      "  if is_sparse(pd_dtype):\n",
      "/opt/conda/lib/python3.10/site-packages/sklearn/utils/validation.py:614: FutureWarning: is_sparse is deprecated and will be removed in a future version. Check `isinstance(dtype, pd.SparseDtype)` instead.\n",
      "  if is_sparse(pd_dtype) or not is_extension_array_dtype(pd_dtype):\n",
      "/opt/conda/lib/python3.10/site-packages/sklearn/utils/validation.py:605: FutureWarning: is_sparse is deprecated and will be removed in a future version. Check `isinstance(dtype, pd.SparseDtype)` instead.\n",
      "  if is_sparse(pd_dtype):\n",
      "/opt/conda/lib/python3.10/site-packages/sklearn/utils/validation.py:614: FutureWarning: is_sparse is deprecated and will be removed in a future version. Check `isinstance(dtype, pd.SparseDtype)` instead.\n",
      "  if is_sparse(pd_dtype) or not is_extension_array_dtype(pd_dtype):\n"
     ]
    }
   ],
   "source": [
    "print(\"R2 score: \", r2_score(result_df[\"y_tests\"], result_df[\"y_preds\"]))"
   ]
  },
  {
   "cell_type": "code",
   "execution_count": 37,
   "id": "d014f0fd",
   "metadata": {
    "execution": {
     "iopub.execute_input": "2024-05-31T11:20:29.047444Z",
     "iopub.status.busy": "2024-05-31T11:20:29.047044Z",
     "iopub.status.idle": "2024-05-31T11:20:29.055296Z",
     "shell.execute_reply": "2024-05-31T11:20:29.054544Z"
    },
    "papermill": {
     "duration": 0.218196,
     "end_time": "2024-05-31T11:20:29.057312",
     "exception": false,
     "start_time": "2024-05-31T11:20:28.839116",
     "status": "completed"
    },
    "tags": []
   },
   "outputs": [],
   "source": [
    "result_df.to_csv(\"result_df.csv\")"
   ]
  },
  {
   "cell_type": "code",
   "execution_count": null,
   "id": "1e8975ee",
   "metadata": {
    "papermill": {
     "duration": 0.210456,
     "end_time": "2024-05-31T11:20:29.483059",
     "exception": false,
     "start_time": "2024-05-31T11:20:29.272603",
     "status": "completed"
    },
    "tags": []
   },
   "outputs": [],
   "source": []
  }
 ],
 "metadata": {
  "kaggle": {
   "accelerator": "gpu",
   "dataSources": [
    {
     "datasetId": 4876058,
     "isSourceIdPinned": false,
     "sourceId": 8569443,
     "sourceType": "datasetVersion"
    }
   ],
   "dockerImageVersionId": 30588,
   "isGpuEnabled": true,
   "isInternetEnabled": true,
   "language": "python",
   "sourceType": "notebook"
  },
  "kernelspec": {
   "display_name": "Python 3",
   "language": "python",
   "name": "python3"
  },
  "language_info": {
   "codemirror_mode": {
    "name": "ipython",
    "version": 3
   },
   "file_extension": ".py",
   "mimetype": "text/x-python",
   "name": "python",
   "nbconvert_exporter": "python",
   "pygments_lexer": "ipython3",
   "version": "3.10.12"
  },
  "papermill": {
   "default_parameters": {},
   "duration": 2159.609308,
   "end_time": "2024-05-31T11:20:32.483024",
   "environment_variables": {},
   "exception": null,
   "input_path": "__notebook__.ipynb",
   "output_path": "__notebook__.ipynb",
   "parameters": {},
   "start_time": "2024-05-31T10:44:32.873716",
   "version": "2.4.0"
  }
 },
 "nbformat": 4,
 "nbformat_minor": 5
}
